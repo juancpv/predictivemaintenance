{
  "nbformat": 4,
  "nbformat_minor": 0,
  "metadata": {
    "colab": {
      "name": "lstm.ipynb",
      "version": "0.3.2",
      "provenance": [],
      "collapsed_sections": [],
      "include_colab_link": true
    },
    "kernelspec": {
      "name": "python3",
      "display_name": "Python 3"
    }
  },
  "cells": [
    {
      "cell_type": "markdown",
      "metadata": {
        "id": "view-in-github",
        "colab_type": "text"
      },
      "source": [
        "<a href=\"https://colab.research.google.com/github/juancpv/predictivemaintenance/blob/master/lstm.ipynb\" target=\"_parent\"><img src=\"https://colab.research.google.com/assets/colab-badge.svg\" alt=\"Open In Colab\"/></a>"
      ]
    },
    {
      "cell_type": "code",
      "metadata": {
        "id": "G-eYrDxypAT7",
        "colab_type": "code",
        "colab": {}
      },
      "source": [
        "import keras\n",
        "import pandas as pd\n",
        "import numpy as np\n",
        "import matplotlib.pyplot as plt\n",
        "\n",
        "# Some tools\n",
        "from sklearn import preprocessing\n",
        "from sklearn.metrics import confusion_matrix, recall_score, precision_score\n",
        "from keras.models import Sequential\n",
        "from keras.layers import Dense, Dropout, LSTM"
      ],
      "execution_count": 0,
      "outputs": []
    },
    {
      "cell_type": "markdown",
      "metadata": {
        "id": "p5NCXo3z-7I9",
        "colab_type": "text"
      },
      "source": [
        "\n",
        "  **DATASETS.**\n",
        "\n",
        "Para este ejercicio nosotros haremos uso de un dataset de Azure. Los datos consisten en tres archivos de texto: training, testing y ground truth en el caso de motores de aeronaves. \n",
        "\n",
        "\n",
        "*   El dataset de entrenamiento consiste de un conjunto de series de tiempo multivariable (21 sensores) con la unidad de tiempo medida en ciclos.\n",
        "*   El dataset de pruebas, tiene el mismo esquema que el de entrenamiento, con la unica diferencia que estos no incluyen la etiqueta de ocurrencia de falla.\n",
        "*   El datset de ground truth contiene información de ciclos restantes de trabajo de los motores\n",
        "\n",
        "\n",
        "\n",
        "\n",
        "A continuación se dan los comandos para obtener los datasets (recuerde que esto es una maquina con sistema operativo Linux).\n",
        "\n",
        "\n",
        "\n"
      ]
    },
    {
      "cell_type": "code",
      "metadata": {
        "id": "-xdTXDP0GF5F",
        "colab_type": "code",
        "colab": {}
      },
      "source": [
        "!wget http://azuremlsamples.azureml.net/templatedata/PM_train.txt \n",
        "!wget http://azuremlsamples.azureml.net/templatedata/PM_test.txt\n",
        "!wget http://azuremlsamples.azureml.net/templatedata/PM_truth.txt"
      ],
      "execution_count": 0,
      "outputs": []
    },
    {
      "cell_type": "markdown",
      "metadata": {
        "id": "pvov6dQFHs-9",
        "colab_type": "text"
      },
      "source": [
        "Examinemos un poco los datos con los cuales vamos a trabajar:"
      ]
    },
    {
      "cell_type": "code",
      "metadata": {
        "id": "pgPWKoIlH195",
        "colab_type": "code",
        "colab": {}
      },
      "source": [
        "train_df = pd.read_csv('PM_train.txt', sep=\" \", header=None)\n",
        "train_df.head(10) # Por defecto el numero de filas sera 5.\n"
      ],
      "execution_count": 0,
      "outputs": []
    },
    {
      "cell_type": "markdown",
      "metadata": {
        "id": "_l3ZP7yWJVTY",
        "colab_type": "text"
      },
      "source": [
        "Podemos observar como las dos ultimas columnas no tienen datos. Vamos a usar la funcion de pandas DROP para eliminar esas columnas."
      ]
    },
    {
      "cell_type": "code",
      "metadata": {
        "id": "JVPkA15yJkmo",
        "colab_type": "code",
        "colab": {}
      },
      "source": [
        "train_df.drop(train_df.columns[[26,27]], axis=1, inplace=True)\n",
        "train_df.head()\n"
      ],
      "execution_count": 0,
      "outputs": []
    },
    {
      "cell_type": "markdown",
      "metadata": {
        "id": "HJ4u-k6yLP-P",
        "colab_type": "text"
      },
      "source": [
        "Dado que el dataset no contiene etiquetas para las  diferentes columnas, vamos a hacerlo tomando en cuenta el [template](https://gallery.azure.ai/Experiment/Predictive-Maintenance-Step-1-of-3-data-preparation-and-feature-engineering-2) de la pagina de Azure."
      ]
    },
    {
      "cell_type": "code",
      "metadata": {
        "id": "CSLyp9kHLkZv",
        "colab_type": "code",
        "colab": {}
      },
      "source": [
        "train_df.columns = ['id', 'cycle', 'setting1', 'setting2', 'setting3', 's1', 's2', 's3',\n",
        "                     's4', 's5', 's6', 's7', 's8', 's9', 's10', 's11', 's12', 's13', 's14',\n",
        "                     's15', 's16', 's17', 's18', 's19', 's20', 's21']\n",
        "train_df.head(10)"
      ],
      "execution_count": 0,
      "outputs": []
    },
    {
      "cell_type": "markdown",
      "metadata": {
        "id": "ZzxqZ9GVM81t",
        "colab_type": "text"
      },
      "source": [
        "Hagamos lo mismo para los datos de prueba."
      ]
    },
    {
      "cell_type": "code",
      "metadata": {
        "id": "oXJ118I5NBL2",
        "colab_type": "code",
        "colab": {}
      },
      "source": [
        "test_df = pd.read_csv('PM_test.txt', sep=\" \", header=None)\n",
        "test_df.drop(test_df.columns[[26, 27]], axis=1, inplace=True)\n",
        "test_df.columns = ['id', 'cycle', 'setting1', 'setting2', 'setting3', 's1', 's2', 's3',\n",
        "                     's4', 's5', 's6', 's7', 's8', 's9', 's10', 's11', 's12', 's13', 's14',\n",
        "                     's15', 's16', 's17', 's18', 's19', 's20', 's21']\n",
        "test_df.tail(5)"
      ],
      "execution_count": 0,
      "outputs": []
    },
    {
      "cell_type": "markdown",
      "metadata": {
        "id": "ucX-L3Z8v0rs",
        "colab_type": "text"
      },
      "source": [
        "Miremos el archivo de ground truth:"
      ]
    },
    {
      "cell_type": "code",
      "metadata": {
        "id": "Dog7iJeMv4VK",
        "colab_type": "code",
        "colab": {}
      },
      "source": [
        "truth_df = pd.read_csv('PM_truth.txt', sep= \" \", header=None)\n",
        "truth_df.head()"
      ],
      "execution_count": 0,
      "outputs": []
    },
    {
      "cell_type": "code",
      "metadata": {
        "id": "r4wt3Gh-w18v",
        "colab_type": "code",
        "colab": {}
      },
      "source": [
        "Escriba el codigo a continuación para quitar la columan sin información:"
      ],
      "execution_count": 0,
      "outputs": []
    },
    {
      "cell_type": "code",
      "metadata": {
        "id": "vYPyak9Ew9a_",
        "colab_type": "code",
        "colab": {}
      },
      "source": [
        "truth_df.drop(truth_df.columns[[1]], axis=1, inplace=True)\n",
        "truth_df.head()"
      ],
      "execution_count": 0,
      "outputs": []
    },
    {
      "cell_type": "markdown",
      "metadata": {
        "id": "98jYqUouxZLZ",
        "colab_type": "text"
      },
      "source": [
        "**PRE-PROCESAMIENTO DE DATOS**\n",
        "Antes de comenzar con el pre.rpocesamiento de datos. Vamos a comprender en que consisten los datos:\n",
        "En el archivo de entrenamiento, cada motor empieza con un grado diferente de uso inicial y variaciones de manufactura. Se asume que cada motor opera normalmente al comienzo de cada serie de tiempo y comienza a degradarse en algun punto durante la serie del ciclo de operación. La degradación es progresiva y crece en magnitud. Cuando un nivel de umbral es alcanzado, el motor es considerado inseguro. Asi que el ultimo ciclo se puede considerar como el punto de falla del correspondiente motor.\n",
        "\n",
        "Como una forma de practicar y ver lo que sucede en el dataset de entrenamiento. Visualice cual sería el punto de falla para cada motor: \n"
      ]
    },
    {
      "cell_type": "code",
      "metadata": {
        "id": "j_q2UwnL1yHB",
        "colab_type": "code",
        "colab": {}
      },
      "source": [
        "#organizar los datos por id y por ciclos:\n",
        "train_df =train_df.sort_values(['id', 'cycle'])\n",
        "#train_df.head()\n",
        "ultimo_ciclo = train_df.groupby('id')['cycle'].max()\n",
        "ultimo_ciclo"
      ],
      "execution_count": 0,
      "outputs": []
    },
    {
      "cell_type": "markdown",
      "metadata": {
        "id": "e0fJ6SS-5eGU",
        "colab_type": "text"
      },
      "source": [
        "Como pudo notar existen 100 motores y por ejemplo el motor 1 fallará en el ciclo 192 y el motor 100 fallará en el ciclo 200.\n",
        "Para el dataset de prueba, el esquema es identico al dataset de entrenamiento, solo que en este caso el ultimo ciclo no representa el punto de falla para un motor en particular.\n",
        "\n",
        "El dataset ground truth tendrá entonces  el ciclo donde fallará cada motor del dataset de prueba.\n",
        "\n",
        "Como un ejercicio demuestre que para el motor 2 el ultimo ciclo en el dataset de prueba es el 49 y el ciclo en que sera considerado como falla será en el 98:"
      ]
    }
  ]
}