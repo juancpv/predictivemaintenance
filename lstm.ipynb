{
  "nbformat": 4,
  "nbformat_minor": 0,
  "metadata": {
    "colab": {
      "name": "lstm.ipynb",
      "version": "0.3.2",
      "provenance": [],
      "collapsed_sections": [],
      "include_colab_link": true
    },
    "kernelspec": {
      "name": "python3",
      "display_name": "Python 3"
    }
  },
  "cells": [
    {
      "cell_type": "markdown",
      "metadata": {
        "id": "view-in-github",
        "colab_type": "text"
      },
      "source": [
        "<a href=\"https://colab.research.google.com/github/juancpv/predictivemaintenance/blob/master/lstm.ipynb\" target=\"_parent\"><img src=\"https://colab.research.google.com/assets/colab-badge.svg\" alt=\"Open In Colab\"/></a>"
      ]
    },
    {
      "cell_type": "markdown",
      "metadata": {
        "id": "GelzjDHv0f8D",
        "colab_type": "text"
      },
      "source": [
        "Antes de empezar a entrenar nuestro sistema de predicción de fallos. Aclaremos que estaremos trabajando en una maquina virtual con sistema operativo Linux y que usaremos python como lenguaje de programación.\n",
        "Cada vez que queramos usar un comando de terminal de ubuntu, añadiremos al inicio de la instruccion el simbolo de exclamación (!)\n",
        "A continuación importamos todas las librerias que usaremos a lo largo de este tutorial. A medida que las usemos las explicaremos en mas detalle.\n",
        "\n"
      ]
    },
    {
      "cell_type": "code",
      "metadata": {
        "id": "G-eYrDxypAT7",
        "colab_type": "code",
        "outputId": "6c2bb5ca-3685-4d0e-d3e8-04a1fdf9ad31",
        "colab": {
          "base_uri": "https://localhost:8080/",
          "height": 34
        }
      },
      "source": [
        "import keras  #Biblioteca de redes neuronales \n",
        "import pandas as pd  #Biblioteca  para manipulación de datos\n",
        "import numpy as np #Biblioteca para soporte  de operaciones matematicas de alto nivel en matrices y vectores.\n",
        "import matplotlib.pyplot as plt #biblioteca para manejo de graficos\n",
        "\n",
        "# Some tools\n",
        "from sklearn import preprocessing #Paquete que permite la estandarizacion de datoscomo beneficio para los algoritmos de aprendizaje.\n",
        "from sklearn.metrics import confusion_matrix, recall_score, precision_score # Paquete para medir el performance del clasificador.\n",
        "from keras.models import Sequential \n",
        "from keras.layers import Dense, Dropout, LSTM"
      ],
      "execution_count": 4,
      "outputs": [
        {
          "output_type": "stream",
          "text": [
            "Using TensorFlow backend.\n"
          ],
          "name": "stderr"
        }
      ]
    },
    {
      "cell_type": "markdown",
      "metadata": {
        "id": "p5NCXo3z-7I9",
        "colab_type": "text"
      },
      "source": [
        "\n",
        "  **DATASETS.**\n",
        "\n",
        "Para este ejercicio nosotros haremos uso de un dataset de Azure. Los datos consisten en tres archivos de texto: training, testing y ground truth para el caso especifico de 100 motores de aeronaves. \n",
        "\n",
        "\n",
        "*   El dataset de entrenamiento consiste de un conjunto de series de tiempo multivariable (21 sensores) con la unidad de tiempo medida en ciclos.\n",
        "*   El dataset de pruebas, tiene el mismo esquema que el de entrenamiento, con la unica diferencia que estos no incluyen la etiqueta de ocurrencia de falla.\n",
        "*   El datset de ground truth contiene información de ciclos restantes de trabajo de los motores\n",
        "\n",
        "\n",
        "\n",
        "\n",
        "A continuación se dan los comandos para obtener los datasets (recuerde que esto es una maquina con sistema operativo Linux).\n",
        "\n",
        "\n",
        "\n"
      ]
    },
    {
      "cell_type": "code",
      "metadata": {
        "id": "-xdTXDP0GF5F",
        "colab_type": "code",
        "outputId": "facc1dfb-be6c-43ff-aa9e-9afe9b76bd54",
        "colab": {
          "base_uri": "https://localhost:8080/",
          "height": 578
        }
      },
      "source": [
        "!wget http://azuremlsamples.azureml.net/templatedata/PM_train.txt \n",
        "!wget http://azuremlsamples.azureml.net/templatedata/PM_test.txt\n",
        "!wget http://azuremlsamples.azureml.net/templatedata/PM_truth.txt"
      ],
      "execution_count": 5,
      "outputs": [
        {
          "output_type": "stream",
          "text": [
            "--2019-08-31 07:24:35--  http://azuremlsamples.azureml.net/templatedata/PM_train.txt\n",
            "Resolving azuremlsamples.azureml.net (azuremlsamples.azureml.net)... 13.107.246.10, 2620:1ec:bdf::10\n",
            "Connecting to azuremlsamples.azureml.net (azuremlsamples.azureml.net)|13.107.246.10|:80... connected.\n",
            "HTTP request sent, awaiting response... 200 OK\n",
            "Length: 3515356 (3.4M) [text/plain]\n",
            "Saving to: ‘PM_train.txt’\n",
            "\n",
            "\rPM_train.txt          0%[                    ]       0  --.-KB/s               \rPM_train.txt        100%[===================>]   3.35M  --.-KB/s    in 0.1s    \n",
            "\n",
            "2019-08-31 07:24:35 (31.1 MB/s) - ‘PM_train.txt’ saved [3515356/3515356]\n",
            "\n",
            "--2019-08-31 07:24:36--  http://azuremlsamples.azureml.net/templatedata/PM_test.txt\n",
            "Resolving azuremlsamples.azureml.net (azuremlsamples.azureml.net)... 13.107.246.10, 2620:1ec:bdf::10\n",
            "Connecting to azuremlsamples.azureml.net (azuremlsamples.azureml.net)|13.107.246.10|:80... connected.\n",
            "HTTP request sent, awaiting response... 200 OK\n",
            "Length: 2228855 (2.1M) [text/plain]\n",
            "Saving to: ‘PM_test.txt’\n",
            "\n",
            "PM_test.txt         100%[===================>]   2.12M  --.-KB/s    in 0.08s   \n",
            "\n",
            "2019-08-31 07:24:36 (25.8 MB/s) - ‘PM_test.txt’ saved [2228855/2228855]\n",
            "\n",
            "--2019-08-31 07:24:38--  http://azuremlsamples.azureml.net/templatedata/PM_truth.txt\n",
            "Resolving azuremlsamples.azureml.net (azuremlsamples.azureml.net)... 13.107.246.10, 2620:1ec:bdf::10\n",
            "Connecting to azuremlsamples.azureml.net (azuremlsamples.azureml.net)|13.107.246.10|:80... connected.\n",
            "HTTP request sent, awaiting response... 200 OK\n",
            "Length: 429 [text/plain]\n",
            "Saving to: ‘PM_truth.txt’\n",
            "\n",
            "PM_truth.txt        100%[===================>]     429  --.-KB/s    in 0s      \n",
            "\n",
            "2019-08-31 07:24:38 (92.8 MB/s) - ‘PM_truth.txt’ saved [429/429]\n",
            "\n"
          ],
          "name": "stdout"
        }
      ]
    },
    {
      "cell_type": "markdown",
      "metadata": {
        "id": "pvov6dQFHs-9",
        "colab_type": "text"
      },
      "source": [
        "Examinemos un poco los datos con los cuales vamos a trabajar (aqui comenzamos con el uso de PANDAS):"
      ]
    },
    {
      "cell_type": "code",
      "metadata": {
        "id": "pgPWKoIlH195",
        "colab_type": "code",
        "outputId": "22c9be03-7499-4378-de23-eb629cc8a818",
        "colab": {
          "base_uri": "https://localhost:8080/",
          "height": 379
        }
      },
      "source": [
        "train_df = pd.read_csv('PM_train.txt', sep=\" \", header=None)\n",
        "train_df.head(10) # Por defecto el numero de filas sera 5.\n"
      ],
      "execution_count": 6,
      "outputs": [
        {
          "output_type": "execute_result",
          "data": {
            "text/html": [
              "<div>\n",
              "<style scoped>\n",
              "    .dataframe tbody tr th:only-of-type {\n",
              "        vertical-align: middle;\n",
              "    }\n",
              "\n",
              "    .dataframe tbody tr th {\n",
              "        vertical-align: top;\n",
              "    }\n",
              "\n",
              "    .dataframe thead th {\n",
              "        text-align: right;\n",
              "    }\n",
              "</style>\n",
              "<table border=\"1\" class=\"dataframe\">\n",
              "  <thead>\n",
              "    <tr style=\"text-align: right;\">\n",
              "      <th></th>\n",
              "      <th>0</th>\n",
              "      <th>1</th>\n",
              "      <th>2</th>\n",
              "      <th>3</th>\n",
              "      <th>4</th>\n",
              "      <th>5</th>\n",
              "      <th>6</th>\n",
              "      <th>7</th>\n",
              "      <th>8</th>\n",
              "      <th>9</th>\n",
              "      <th>10</th>\n",
              "      <th>11</th>\n",
              "      <th>12</th>\n",
              "      <th>13</th>\n",
              "      <th>14</th>\n",
              "      <th>15</th>\n",
              "      <th>16</th>\n",
              "      <th>17</th>\n",
              "      <th>18</th>\n",
              "      <th>19</th>\n",
              "      <th>20</th>\n",
              "      <th>21</th>\n",
              "      <th>22</th>\n",
              "      <th>23</th>\n",
              "      <th>24</th>\n",
              "      <th>25</th>\n",
              "      <th>26</th>\n",
              "      <th>27</th>\n",
              "    </tr>\n",
              "  </thead>\n",
              "  <tbody>\n",
              "    <tr>\n",
              "      <th>0</th>\n",
              "      <td>1</td>\n",
              "      <td>1</td>\n",
              "      <td>-0.0007</td>\n",
              "      <td>-0.0004</td>\n",
              "      <td>100.0</td>\n",
              "      <td>518.67</td>\n",
              "      <td>641.82</td>\n",
              "      <td>1589.70</td>\n",
              "      <td>1400.60</td>\n",
              "      <td>14.62</td>\n",
              "      <td>21.61</td>\n",
              "      <td>554.36</td>\n",
              "      <td>2388.06</td>\n",
              "      <td>9046.19</td>\n",
              "      <td>1.3</td>\n",
              "      <td>47.47</td>\n",
              "      <td>521.66</td>\n",
              "      <td>2388.02</td>\n",
              "      <td>8138.62</td>\n",
              "      <td>8.4195</td>\n",
              "      <td>0.03</td>\n",
              "      <td>392</td>\n",
              "      <td>2388</td>\n",
              "      <td>100.0</td>\n",
              "      <td>39.06</td>\n",
              "      <td>23.4190</td>\n",
              "      <td>NaN</td>\n",
              "      <td>NaN</td>\n",
              "    </tr>\n",
              "    <tr>\n",
              "      <th>1</th>\n",
              "      <td>1</td>\n",
              "      <td>2</td>\n",
              "      <td>0.0019</td>\n",
              "      <td>-0.0003</td>\n",
              "      <td>100.0</td>\n",
              "      <td>518.67</td>\n",
              "      <td>642.15</td>\n",
              "      <td>1591.82</td>\n",
              "      <td>1403.14</td>\n",
              "      <td>14.62</td>\n",
              "      <td>21.61</td>\n",
              "      <td>553.75</td>\n",
              "      <td>2388.04</td>\n",
              "      <td>9044.07</td>\n",
              "      <td>1.3</td>\n",
              "      <td>47.49</td>\n",
              "      <td>522.28</td>\n",
              "      <td>2388.07</td>\n",
              "      <td>8131.49</td>\n",
              "      <td>8.4318</td>\n",
              "      <td>0.03</td>\n",
              "      <td>392</td>\n",
              "      <td>2388</td>\n",
              "      <td>100.0</td>\n",
              "      <td>39.00</td>\n",
              "      <td>23.4236</td>\n",
              "      <td>NaN</td>\n",
              "      <td>NaN</td>\n",
              "    </tr>\n",
              "    <tr>\n",
              "      <th>2</th>\n",
              "      <td>1</td>\n",
              "      <td>3</td>\n",
              "      <td>-0.0043</td>\n",
              "      <td>0.0003</td>\n",
              "      <td>100.0</td>\n",
              "      <td>518.67</td>\n",
              "      <td>642.35</td>\n",
              "      <td>1587.99</td>\n",
              "      <td>1404.20</td>\n",
              "      <td>14.62</td>\n",
              "      <td>21.61</td>\n",
              "      <td>554.26</td>\n",
              "      <td>2388.08</td>\n",
              "      <td>9052.94</td>\n",
              "      <td>1.3</td>\n",
              "      <td>47.27</td>\n",
              "      <td>522.42</td>\n",
              "      <td>2388.03</td>\n",
              "      <td>8133.23</td>\n",
              "      <td>8.4178</td>\n",
              "      <td>0.03</td>\n",
              "      <td>390</td>\n",
              "      <td>2388</td>\n",
              "      <td>100.0</td>\n",
              "      <td>38.95</td>\n",
              "      <td>23.3442</td>\n",
              "      <td>NaN</td>\n",
              "      <td>NaN</td>\n",
              "    </tr>\n",
              "    <tr>\n",
              "      <th>3</th>\n",
              "      <td>1</td>\n",
              "      <td>4</td>\n",
              "      <td>0.0007</td>\n",
              "      <td>0.0000</td>\n",
              "      <td>100.0</td>\n",
              "      <td>518.67</td>\n",
              "      <td>642.35</td>\n",
              "      <td>1582.79</td>\n",
              "      <td>1401.87</td>\n",
              "      <td>14.62</td>\n",
              "      <td>21.61</td>\n",
              "      <td>554.45</td>\n",
              "      <td>2388.11</td>\n",
              "      <td>9049.48</td>\n",
              "      <td>1.3</td>\n",
              "      <td>47.13</td>\n",
              "      <td>522.86</td>\n",
              "      <td>2388.08</td>\n",
              "      <td>8133.83</td>\n",
              "      <td>8.3682</td>\n",
              "      <td>0.03</td>\n",
              "      <td>392</td>\n",
              "      <td>2388</td>\n",
              "      <td>100.0</td>\n",
              "      <td>38.88</td>\n",
              "      <td>23.3739</td>\n",
              "      <td>NaN</td>\n",
              "      <td>NaN</td>\n",
              "    </tr>\n",
              "    <tr>\n",
              "      <th>4</th>\n",
              "      <td>1</td>\n",
              "      <td>5</td>\n",
              "      <td>-0.0019</td>\n",
              "      <td>-0.0002</td>\n",
              "      <td>100.0</td>\n",
              "      <td>518.67</td>\n",
              "      <td>642.37</td>\n",
              "      <td>1582.85</td>\n",
              "      <td>1406.22</td>\n",
              "      <td>14.62</td>\n",
              "      <td>21.61</td>\n",
              "      <td>554.00</td>\n",
              "      <td>2388.06</td>\n",
              "      <td>9055.15</td>\n",
              "      <td>1.3</td>\n",
              "      <td>47.28</td>\n",
              "      <td>522.19</td>\n",
              "      <td>2388.04</td>\n",
              "      <td>8133.80</td>\n",
              "      <td>8.4294</td>\n",
              "      <td>0.03</td>\n",
              "      <td>393</td>\n",
              "      <td>2388</td>\n",
              "      <td>100.0</td>\n",
              "      <td>38.90</td>\n",
              "      <td>23.4044</td>\n",
              "      <td>NaN</td>\n",
              "      <td>NaN</td>\n",
              "    </tr>\n",
              "    <tr>\n",
              "      <th>5</th>\n",
              "      <td>1</td>\n",
              "      <td>6</td>\n",
              "      <td>-0.0043</td>\n",
              "      <td>-0.0001</td>\n",
              "      <td>100.0</td>\n",
              "      <td>518.67</td>\n",
              "      <td>642.10</td>\n",
              "      <td>1584.47</td>\n",
              "      <td>1398.37</td>\n",
              "      <td>14.62</td>\n",
              "      <td>21.61</td>\n",
              "      <td>554.67</td>\n",
              "      <td>2388.02</td>\n",
              "      <td>9049.68</td>\n",
              "      <td>1.3</td>\n",
              "      <td>47.16</td>\n",
              "      <td>521.68</td>\n",
              "      <td>2388.03</td>\n",
              "      <td>8132.85</td>\n",
              "      <td>8.4108</td>\n",
              "      <td>0.03</td>\n",
              "      <td>391</td>\n",
              "      <td>2388</td>\n",
              "      <td>100.0</td>\n",
              "      <td>38.98</td>\n",
              "      <td>23.3669</td>\n",
              "      <td>NaN</td>\n",
              "      <td>NaN</td>\n",
              "    </tr>\n",
              "    <tr>\n",
              "      <th>6</th>\n",
              "      <td>1</td>\n",
              "      <td>7</td>\n",
              "      <td>0.0010</td>\n",
              "      <td>0.0001</td>\n",
              "      <td>100.0</td>\n",
              "      <td>518.67</td>\n",
              "      <td>642.48</td>\n",
              "      <td>1592.32</td>\n",
              "      <td>1397.77</td>\n",
              "      <td>14.62</td>\n",
              "      <td>21.61</td>\n",
              "      <td>554.34</td>\n",
              "      <td>2388.02</td>\n",
              "      <td>9059.13</td>\n",
              "      <td>1.3</td>\n",
              "      <td>47.36</td>\n",
              "      <td>522.32</td>\n",
              "      <td>2388.03</td>\n",
              "      <td>8132.32</td>\n",
              "      <td>8.3974</td>\n",
              "      <td>0.03</td>\n",
              "      <td>392</td>\n",
              "      <td>2388</td>\n",
              "      <td>100.0</td>\n",
              "      <td>39.10</td>\n",
              "      <td>23.3774</td>\n",
              "      <td>NaN</td>\n",
              "      <td>NaN</td>\n",
              "    </tr>\n",
              "    <tr>\n",
              "      <th>7</th>\n",
              "      <td>1</td>\n",
              "      <td>8</td>\n",
              "      <td>-0.0034</td>\n",
              "      <td>0.0003</td>\n",
              "      <td>100.0</td>\n",
              "      <td>518.67</td>\n",
              "      <td>642.56</td>\n",
              "      <td>1582.96</td>\n",
              "      <td>1400.97</td>\n",
              "      <td>14.62</td>\n",
              "      <td>21.61</td>\n",
              "      <td>553.85</td>\n",
              "      <td>2388.00</td>\n",
              "      <td>9040.80</td>\n",
              "      <td>1.3</td>\n",
              "      <td>47.24</td>\n",
              "      <td>522.47</td>\n",
              "      <td>2388.03</td>\n",
              "      <td>8131.07</td>\n",
              "      <td>8.4076</td>\n",
              "      <td>0.03</td>\n",
              "      <td>391</td>\n",
              "      <td>2388</td>\n",
              "      <td>100.0</td>\n",
              "      <td>38.97</td>\n",
              "      <td>23.3106</td>\n",
              "      <td>NaN</td>\n",
              "      <td>NaN</td>\n",
              "    </tr>\n",
              "    <tr>\n",
              "      <th>8</th>\n",
              "      <td>1</td>\n",
              "      <td>9</td>\n",
              "      <td>0.0008</td>\n",
              "      <td>0.0001</td>\n",
              "      <td>100.0</td>\n",
              "      <td>518.67</td>\n",
              "      <td>642.12</td>\n",
              "      <td>1590.98</td>\n",
              "      <td>1394.80</td>\n",
              "      <td>14.62</td>\n",
              "      <td>21.61</td>\n",
              "      <td>553.69</td>\n",
              "      <td>2388.05</td>\n",
              "      <td>9046.46</td>\n",
              "      <td>1.3</td>\n",
              "      <td>47.29</td>\n",
              "      <td>521.79</td>\n",
              "      <td>2388.05</td>\n",
              "      <td>8125.69</td>\n",
              "      <td>8.3728</td>\n",
              "      <td>0.03</td>\n",
              "      <td>392</td>\n",
              "      <td>2388</td>\n",
              "      <td>100.0</td>\n",
              "      <td>39.05</td>\n",
              "      <td>23.4066</td>\n",
              "      <td>NaN</td>\n",
              "      <td>NaN</td>\n",
              "    </tr>\n",
              "    <tr>\n",
              "      <th>9</th>\n",
              "      <td>1</td>\n",
              "      <td>10</td>\n",
              "      <td>-0.0033</td>\n",
              "      <td>0.0001</td>\n",
              "      <td>100.0</td>\n",
              "      <td>518.67</td>\n",
              "      <td>641.71</td>\n",
              "      <td>1591.24</td>\n",
              "      <td>1400.46</td>\n",
              "      <td>14.62</td>\n",
              "      <td>21.61</td>\n",
              "      <td>553.59</td>\n",
              "      <td>2388.05</td>\n",
              "      <td>9051.70</td>\n",
              "      <td>1.3</td>\n",
              "      <td>47.03</td>\n",
              "      <td>521.79</td>\n",
              "      <td>2388.06</td>\n",
              "      <td>8129.38</td>\n",
              "      <td>8.4286</td>\n",
              "      <td>0.03</td>\n",
              "      <td>393</td>\n",
              "      <td>2388</td>\n",
              "      <td>100.0</td>\n",
              "      <td>38.95</td>\n",
              "      <td>23.4694</td>\n",
              "      <td>NaN</td>\n",
              "      <td>NaN</td>\n",
              "    </tr>\n",
              "  </tbody>\n",
              "</table>\n",
              "</div>"
            ],
            "text/plain": [
              "   0   1       2       3      4       5   ...    22     23     24       25  26  27\n",
              "0   1   1 -0.0007 -0.0004  100.0  518.67  ...  2388  100.0  39.06  23.4190 NaN NaN\n",
              "1   1   2  0.0019 -0.0003  100.0  518.67  ...  2388  100.0  39.00  23.4236 NaN NaN\n",
              "2   1   3 -0.0043  0.0003  100.0  518.67  ...  2388  100.0  38.95  23.3442 NaN NaN\n",
              "3   1   4  0.0007  0.0000  100.0  518.67  ...  2388  100.0  38.88  23.3739 NaN NaN\n",
              "4   1   5 -0.0019 -0.0002  100.0  518.67  ...  2388  100.0  38.90  23.4044 NaN NaN\n",
              "5   1   6 -0.0043 -0.0001  100.0  518.67  ...  2388  100.0  38.98  23.3669 NaN NaN\n",
              "6   1   7  0.0010  0.0001  100.0  518.67  ...  2388  100.0  39.10  23.3774 NaN NaN\n",
              "7   1   8 -0.0034  0.0003  100.0  518.67  ...  2388  100.0  38.97  23.3106 NaN NaN\n",
              "8   1   9  0.0008  0.0001  100.0  518.67  ...  2388  100.0  39.05  23.4066 NaN NaN\n",
              "9   1  10 -0.0033  0.0001  100.0  518.67  ...  2388  100.0  38.95  23.4694 NaN NaN\n",
              "\n",
              "[10 rows x 28 columns]"
            ]
          },
          "metadata": {
            "tags": []
          },
          "execution_count": 6
        }
      ]
    },
    {
      "cell_type": "markdown",
      "metadata": {
        "id": "_l3ZP7yWJVTY",
        "colab_type": "text"
      },
      "source": [
        "Podemos observar como las dos ultimas columnas no tienen datos. Vamos a usar la funcion de pandas DROP para eliminar esas columnas."
      ]
    },
    {
      "cell_type": "code",
      "metadata": {
        "id": "JVPkA15yJkmo",
        "colab_type": "code",
        "outputId": "6b3a7a4c-a163-432e-a1b0-76a272513321",
        "colab": {
          "base_uri": "https://localhost:8080/",
          "height": 224
        }
      },
      "source": [
        "train_df.drop(train_df.columns[[26,27]], axis=1, inplace=True)\n",
        "train_df.head()\n"
      ],
      "execution_count": 7,
      "outputs": [
        {
          "output_type": "execute_result",
          "data": {
            "text/html": [
              "<div>\n",
              "<style scoped>\n",
              "    .dataframe tbody tr th:only-of-type {\n",
              "        vertical-align: middle;\n",
              "    }\n",
              "\n",
              "    .dataframe tbody tr th {\n",
              "        vertical-align: top;\n",
              "    }\n",
              "\n",
              "    .dataframe thead th {\n",
              "        text-align: right;\n",
              "    }\n",
              "</style>\n",
              "<table border=\"1\" class=\"dataframe\">\n",
              "  <thead>\n",
              "    <tr style=\"text-align: right;\">\n",
              "      <th></th>\n",
              "      <th>0</th>\n",
              "      <th>1</th>\n",
              "      <th>2</th>\n",
              "      <th>3</th>\n",
              "      <th>4</th>\n",
              "      <th>5</th>\n",
              "      <th>6</th>\n",
              "      <th>7</th>\n",
              "      <th>8</th>\n",
              "      <th>9</th>\n",
              "      <th>10</th>\n",
              "      <th>11</th>\n",
              "      <th>12</th>\n",
              "      <th>13</th>\n",
              "      <th>14</th>\n",
              "      <th>15</th>\n",
              "      <th>16</th>\n",
              "      <th>17</th>\n",
              "      <th>18</th>\n",
              "      <th>19</th>\n",
              "      <th>20</th>\n",
              "      <th>21</th>\n",
              "      <th>22</th>\n",
              "      <th>23</th>\n",
              "      <th>24</th>\n",
              "      <th>25</th>\n",
              "    </tr>\n",
              "  </thead>\n",
              "  <tbody>\n",
              "    <tr>\n",
              "      <th>0</th>\n",
              "      <td>1</td>\n",
              "      <td>1</td>\n",
              "      <td>-0.0007</td>\n",
              "      <td>-0.0004</td>\n",
              "      <td>100.0</td>\n",
              "      <td>518.67</td>\n",
              "      <td>641.82</td>\n",
              "      <td>1589.70</td>\n",
              "      <td>1400.60</td>\n",
              "      <td>14.62</td>\n",
              "      <td>21.61</td>\n",
              "      <td>554.36</td>\n",
              "      <td>2388.06</td>\n",
              "      <td>9046.19</td>\n",
              "      <td>1.3</td>\n",
              "      <td>47.47</td>\n",
              "      <td>521.66</td>\n",
              "      <td>2388.02</td>\n",
              "      <td>8138.62</td>\n",
              "      <td>8.4195</td>\n",
              "      <td>0.03</td>\n",
              "      <td>392</td>\n",
              "      <td>2388</td>\n",
              "      <td>100.0</td>\n",
              "      <td>39.06</td>\n",
              "      <td>23.4190</td>\n",
              "    </tr>\n",
              "    <tr>\n",
              "      <th>1</th>\n",
              "      <td>1</td>\n",
              "      <td>2</td>\n",
              "      <td>0.0019</td>\n",
              "      <td>-0.0003</td>\n",
              "      <td>100.0</td>\n",
              "      <td>518.67</td>\n",
              "      <td>642.15</td>\n",
              "      <td>1591.82</td>\n",
              "      <td>1403.14</td>\n",
              "      <td>14.62</td>\n",
              "      <td>21.61</td>\n",
              "      <td>553.75</td>\n",
              "      <td>2388.04</td>\n",
              "      <td>9044.07</td>\n",
              "      <td>1.3</td>\n",
              "      <td>47.49</td>\n",
              "      <td>522.28</td>\n",
              "      <td>2388.07</td>\n",
              "      <td>8131.49</td>\n",
              "      <td>8.4318</td>\n",
              "      <td>0.03</td>\n",
              "      <td>392</td>\n",
              "      <td>2388</td>\n",
              "      <td>100.0</td>\n",
              "      <td>39.00</td>\n",
              "      <td>23.4236</td>\n",
              "    </tr>\n",
              "    <tr>\n",
              "      <th>2</th>\n",
              "      <td>1</td>\n",
              "      <td>3</td>\n",
              "      <td>-0.0043</td>\n",
              "      <td>0.0003</td>\n",
              "      <td>100.0</td>\n",
              "      <td>518.67</td>\n",
              "      <td>642.35</td>\n",
              "      <td>1587.99</td>\n",
              "      <td>1404.20</td>\n",
              "      <td>14.62</td>\n",
              "      <td>21.61</td>\n",
              "      <td>554.26</td>\n",
              "      <td>2388.08</td>\n",
              "      <td>9052.94</td>\n",
              "      <td>1.3</td>\n",
              "      <td>47.27</td>\n",
              "      <td>522.42</td>\n",
              "      <td>2388.03</td>\n",
              "      <td>8133.23</td>\n",
              "      <td>8.4178</td>\n",
              "      <td>0.03</td>\n",
              "      <td>390</td>\n",
              "      <td>2388</td>\n",
              "      <td>100.0</td>\n",
              "      <td>38.95</td>\n",
              "      <td>23.3442</td>\n",
              "    </tr>\n",
              "    <tr>\n",
              "      <th>3</th>\n",
              "      <td>1</td>\n",
              "      <td>4</td>\n",
              "      <td>0.0007</td>\n",
              "      <td>0.0000</td>\n",
              "      <td>100.0</td>\n",
              "      <td>518.67</td>\n",
              "      <td>642.35</td>\n",
              "      <td>1582.79</td>\n",
              "      <td>1401.87</td>\n",
              "      <td>14.62</td>\n",
              "      <td>21.61</td>\n",
              "      <td>554.45</td>\n",
              "      <td>2388.11</td>\n",
              "      <td>9049.48</td>\n",
              "      <td>1.3</td>\n",
              "      <td>47.13</td>\n",
              "      <td>522.86</td>\n",
              "      <td>2388.08</td>\n",
              "      <td>8133.83</td>\n",
              "      <td>8.3682</td>\n",
              "      <td>0.03</td>\n",
              "      <td>392</td>\n",
              "      <td>2388</td>\n",
              "      <td>100.0</td>\n",
              "      <td>38.88</td>\n",
              "      <td>23.3739</td>\n",
              "    </tr>\n",
              "    <tr>\n",
              "      <th>4</th>\n",
              "      <td>1</td>\n",
              "      <td>5</td>\n",
              "      <td>-0.0019</td>\n",
              "      <td>-0.0002</td>\n",
              "      <td>100.0</td>\n",
              "      <td>518.67</td>\n",
              "      <td>642.37</td>\n",
              "      <td>1582.85</td>\n",
              "      <td>1406.22</td>\n",
              "      <td>14.62</td>\n",
              "      <td>21.61</td>\n",
              "      <td>554.00</td>\n",
              "      <td>2388.06</td>\n",
              "      <td>9055.15</td>\n",
              "      <td>1.3</td>\n",
              "      <td>47.28</td>\n",
              "      <td>522.19</td>\n",
              "      <td>2388.04</td>\n",
              "      <td>8133.80</td>\n",
              "      <td>8.4294</td>\n",
              "      <td>0.03</td>\n",
              "      <td>393</td>\n",
              "      <td>2388</td>\n",
              "      <td>100.0</td>\n",
              "      <td>38.90</td>\n",
              "      <td>23.4044</td>\n",
              "    </tr>\n",
              "  </tbody>\n",
              "</table>\n",
              "</div>"
            ],
            "text/plain": [
              "   0   1       2       3      4   ...   21    22     23     24       25\n",
              "0   1   1 -0.0007 -0.0004  100.0  ...  392  2388  100.0  39.06  23.4190\n",
              "1   1   2  0.0019 -0.0003  100.0  ...  392  2388  100.0  39.00  23.4236\n",
              "2   1   3 -0.0043  0.0003  100.0  ...  390  2388  100.0  38.95  23.3442\n",
              "3   1   4  0.0007  0.0000  100.0  ...  392  2388  100.0  38.88  23.3739\n",
              "4   1   5 -0.0019 -0.0002  100.0  ...  393  2388  100.0  38.90  23.4044\n",
              "\n",
              "[5 rows x 26 columns]"
            ]
          },
          "metadata": {
            "tags": []
          },
          "execution_count": 7
        }
      ]
    },
    {
      "cell_type": "markdown",
      "metadata": {
        "id": "HJ4u-k6yLP-P",
        "colab_type": "text"
      },
      "source": [
        "Dado que el dataset no contiene etiquetas para las  diferentes columnas, vamos a hacerlo tomando en cuenta el [template](https://gallery.azure.ai/Experiment/Predictive-Maintenance-Step-1-of-3-data-preparation-and-feature-engineering-2) de la pagina de Azure."
      ]
    },
    {
      "cell_type": "code",
      "metadata": {
        "id": "CSLyp9kHLkZv",
        "colab_type": "code",
        "outputId": "965839fe-e0de-4da8-da95-f42d3405209e",
        "colab": {
          "base_uri": "https://localhost:8080/",
          "height": 379
        }
      },
      "source": [
        "train_df.columns = ['id', 'cycle', 'setting1', 'setting2', 'setting3', 's1', 's2', 's3',\n",
        "                     's4', 's5', 's6', 's7', 's8', 's9', 's10', 's11', 's12', 's13', 's14',\n",
        "                     's15', 's16', 's17', 's18', 's19', 's20', 's21']\n",
        "train_df.head(10)"
      ],
      "execution_count": 8,
      "outputs": [
        {
          "output_type": "execute_result",
          "data": {
            "text/html": [
              "<div>\n",
              "<style scoped>\n",
              "    .dataframe tbody tr th:only-of-type {\n",
              "        vertical-align: middle;\n",
              "    }\n",
              "\n",
              "    .dataframe tbody tr th {\n",
              "        vertical-align: top;\n",
              "    }\n",
              "\n",
              "    .dataframe thead th {\n",
              "        text-align: right;\n",
              "    }\n",
              "</style>\n",
              "<table border=\"1\" class=\"dataframe\">\n",
              "  <thead>\n",
              "    <tr style=\"text-align: right;\">\n",
              "      <th></th>\n",
              "      <th>id</th>\n",
              "      <th>cycle</th>\n",
              "      <th>setting1</th>\n",
              "      <th>setting2</th>\n",
              "      <th>setting3</th>\n",
              "      <th>s1</th>\n",
              "      <th>s2</th>\n",
              "      <th>s3</th>\n",
              "      <th>s4</th>\n",
              "      <th>s5</th>\n",
              "      <th>s6</th>\n",
              "      <th>s7</th>\n",
              "      <th>s8</th>\n",
              "      <th>s9</th>\n",
              "      <th>s10</th>\n",
              "      <th>s11</th>\n",
              "      <th>s12</th>\n",
              "      <th>s13</th>\n",
              "      <th>s14</th>\n",
              "      <th>s15</th>\n",
              "      <th>s16</th>\n",
              "      <th>s17</th>\n",
              "      <th>s18</th>\n",
              "      <th>s19</th>\n",
              "      <th>s20</th>\n",
              "      <th>s21</th>\n",
              "    </tr>\n",
              "  </thead>\n",
              "  <tbody>\n",
              "    <tr>\n",
              "      <th>0</th>\n",
              "      <td>1</td>\n",
              "      <td>1</td>\n",
              "      <td>-0.0007</td>\n",
              "      <td>-0.0004</td>\n",
              "      <td>100.0</td>\n",
              "      <td>518.67</td>\n",
              "      <td>641.82</td>\n",
              "      <td>1589.70</td>\n",
              "      <td>1400.60</td>\n",
              "      <td>14.62</td>\n",
              "      <td>21.61</td>\n",
              "      <td>554.36</td>\n",
              "      <td>2388.06</td>\n",
              "      <td>9046.19</td>\n",
              "      <td>1.3</td>\n",
              "      <td>47.47</td>\n",
              "      <td>521.66</td>\n",
              "      <td>2388.02</td>\n",
              "      <td>8138.62</td>\n",
              "      <td>8.4195</td>\n",
              "      <td>0.03</td>\n",
              "      <td>392</td>\n",
              "      <td>2388</td>\n",
              "      <td>100.0</td>\n",
              "      <td>39.06</td>\n",
              "      <td>23.4190</td>\n",
              "    </tr>\n",
              "    <tr>\n",
              "      <th>1</th>\n",
              "      <td>1</td>\n",
              "      <td>2</td>\n",
              "      <td>0.0019</td>\n",
              "      <td>-0.0003</td>\n",
              "      <td>100.0</td>\n",
              "      <td>518.67</td>\n",
              "      <td>642.15</td>\n",
              "      <td>1591.82</td>\n",
              "      <td>1403.14</td>\n",
              "      <td>14.62</td>\n",
              "      <td>21.61</td>\n",
              "      <td>553.75</td>\n",
              "      <td>2388.04</td>\n",
              "      <td>9044.07</td>\n",
              "      <td>1.3</td>\n",
              "      <td>47.49</td>\n",
              "      <td>522.28</td>\n",
              "      <td>2388.07</td>\n",
              "      <td>8131.49</td>\n",
              "      <td>8.4318</td>\n",
              "      <td>0.03</td>\n",
              "      <td>392</td>\n",
              "      <td>2388</td>\n",
              "      <td>100.0</td>\n",
              "      <td>39.00</td>\n",
              "      <td>23.4236</td>\n",
              "    </tr>\n",
              "    <tr>\n",
              "      <th>2</th>\n",
              "      <td>1</td>\n",
              "      <td>3</td>\n",
              "      <td>-0.0043</td>\n",
              "      <td>0.0003</td>\n",
              "      <td>100.0</td>\n",
              "      <td>518.67</td>\n",
              "      <td>642.35</td>\n",
              "      <td>1587.99</td>\n",
              "      <td>1404.20</td>\n",
              "      <td>14.62</td>\n",
              "      <td>21.61</td>\n",
              "      <td>554.26</td>\n",
              "      <td>2388.08</td>\n",
              "      <td>9052.94</td>\n",
              "      <td>1.3</td>\n",
              "      <td>47.27</td>\n",
              "      <td>522.42</td>\n",
              "      <td>2388.03</td>\n",
              "      <td>8133.23</td>\n",
              "      <td>8.4178</td>\n",
              "      <td>0.03</td>\n",
              "      <td>390</td>\n",
              "      <td>2388</td>\n",
              "      <td>100.0</td>\n",
              "      <td>38.95</td>\n",
              "      <td>23.3442</td>\n",
              "    </tr>\n",
              "    <tr>\n",
              "      <th>3</th>\n",
              "      <td>1</td>\n",
              "      <td>4</td>\n",
              "      <td>0.0007</td>\n",
              "      <td>0.0000</td>\n",
              "      <td>100.0</td>\n",
              "      <td>518.67</td>\n",
              "      <td>642.35</td>\n",
              "      <td>1582.79</td>\n",
              "      <td>1401.87</td>\n",
              "      <td>14.62</td>\n",
              "      <td>21.61</td>\n",
              "      <td>554.45</td>\n",
              "      <td>2388.11</td>\n",
              "      <td>9049.48</td>\n",
              "      <td>1.3</td>\n",
              "      <td>47.13</td>\n",
              "      <td>522.86</td>\n",
              "      <td>2388.08</td>\n",
              "      <td>8133.83</td>\n",
              "      <td>8.3682</td>\n",
              "      <td>0.03</td>\n",
              "      <td>392</td>\n",
              "      <td>2388</td>\n",
              "      <td>100.0</td>\n",
              "      <td>38.88</td>\n",
              "      <td>23.3739</td>\n",
              "    </tr>\n",
              "    <tr>\n",
              "      <th>4</th>\n",
              "      <td>1</td>\n",
              "      <td>5</td>\n",
              "      <td>-0.0019</td>\n",
              "      <td>-0.0002</td>\n",
              "      <td>100.0</td>\n",
              "      <td>518.67</td>\n",
              "      <td>642.37</td>\n",
              "      <td>1582.85</td>\n",
              "      <td>1406.22</td>\n",
              "      <td>14.62</td>\n",
              "      <td>21.61</td>\n",
              "      <td>554.00</td>\n",
              "      <td>2388.06</td>\n",
              "      <td>9055.15</td>\n",
              "      <td>1.3</td>\n",
              "      <td>47.28</td>\n",
              "      <td>522.19</td>\n",
              "      <td>2388.04</td>\n",
              "      <td>8133.80</td>\n",
              "      <td>8.4294</td>\n",
              "      <td>0.03</td>\n",
              "      <td>393</td>\n",
              "      <td>2388</td>\n",
              "      <td>100.0</td>\n",
              "      <td>38.90</td>\n",
              "      <td>23.4044</td>\n",
              "    </tr>\n",
              "    <tr>\n",
              "      <th>5</th>\n",
              "      <td>1</td>\n",
              "      <td>6</td>\n",
              "      <td>-0.0043</td>\n",
              "      <td>-0.0001</td>\n",
              "      <td>100.0</td>\n",
              "      <td>518.67</td>\n",
              "      <td>642.10</td>\n",
              "      <td>1584.47</td>\n",
              "      <td>1398.37</td>\n",
              "      <td>14.62</td>\n",
              "      <td>21.61</td>\n",
              "      <td>554.67</td>\n",
              "      <td>2388.02</td>\n",
              "      <td>9049.68</td>\n",
              "      <td>1.3</td>\n",
              "      <td>47.16</td>\n",
              "      <td>521.68</td>\n",
              "      <td>2388.03</td>\n",
              "      <td>8132.85</td>\n",
              "      <td>8.4108</td>\n",
              "      <td>0.03</td>\n",
              "      <td>391</td>\n",
              "      <td>2388</td>\n",
              "      <td>100.0</td>\n",
              "      <td>38.98</td>\n",
              "      <td>23.3669</td>\n",
              "    </tr>\n",
              "    <tr>\n",
              "      <th>6</th>\n",
              "      <td>1</td>\n",
              "      <td>7</td>\n",
              "      <td>0.0010</td>\n",
              "      <td>0.0001</td>\n",
              "      <td>100.0</td>\n",
              "      <td>518.67</td>\n",
              "      <td>642.48</td>\n",
              "      <td>1592.32</td>\n",
              "      <td>1397.77</td>\n",
              "      <td>14.62</td>\n",
              "      <td>21.61</td>\n",
              "      <td>554.34</td>\n",
              "      <td>2388.02</td>\n",
              "      <td>9059.13</td>\n",
              "      <td>1.3</td>\n",
              "      <td>47.36</td>\n",
              "      <td>522.32</td>\n",
              "      <td>2388.03</td>\n",
              "      <td>8132.32</td>\n",
              "      <td>8.3974</td>\n",
              "      <td>0.03</td>\n",
              "      <td>392</td>\n",
              "      <td>2388</td>\n",
              "      <td>100.0</td>\n",
              "      <td>39.10</td>\n",
              "      <td>23.3774</td>\n",
              "    </tr>\n",
              "    <tr>\n",
              "      <th>7</th>\n",
              "      <td>1</td>\n",
              "      <td>8</td>\n",
              "      <td>-0.0034</td>\n",
              "      <td>0.0003</td>\n",
              "      <td>100.0</td>\n",
              "      <td>518.67</td>\n",
              "      <td>642.56</td>\n",
              "      <td>1582.96</td>\n",
              "      <td>1400.97</td>\n",
              "      <td>14.62</td>\n",
              "      <td>21.61</td>\n",
              "      <td>553.85</td>\n",
              "      <td>2388.00</td>\n",
              "      <td>9040.80</td>\n",
              "      <td>1.3</td>\n",
              "      <td>47.24</td>\n",
              "      <td>522.47</td>\n",
              "      <td>2388.03</td>\n",
              "      <td>8131.07</td>\n",
              "      <td>8.4076</td>\n",
              "      <td>0.03</td>\n",
              "      <td>391</td>\n",
              "      <td>2388</td>\n",
              "      <td>100.0</td>\n",
              "      <td>38.97</td>\n",
              "      <td>23.3106</td>\n",
              "    </tr>\n",
              "    <tr>\n",
              "      <th>8</th>\n",
              "      <td>1</td>\n",
              "      <td>9</td>\n",
              "      <td>0.0008</td>\n",
              "      <td>0.0001</td>\n",
              "      <td>100.0</td>\n",
              "      <td>518.67</td>\n",
              "      <td>642.12</td>\n",
              "      <td>1590.98</td>\n",
              "      <td>1394.80</td>\n",
              "      <td>14.62</td>\n",
              "      <td>21.61</td>\n",
              "      <td>553.69</td>\n",
              "      <td>2388.05</td>\n",
              "      <td>9046.46</td>\n",
              "      <td>1.3</td>\n",
              "      <td>47.29</td>\n",
              "      <td>521.79</td>\n",
              "      <td>2388.05</td>\n",
              "      <td>8125.69</td>\n",
              "      <td>8.3728</td>\n",
              "      <td>0.03</td>\n",
              "      <td>392</td>\n",
              "      <td>2388</td>\n",
              "      <td>100.0</td>\n",
              "      <td>39.05</td>\n",
              "      <td>23.4066</td>\n",
              "    </tr>\n",
              "    <tr>\n",
              "      <th>9</th>\n",
              "      <td>1</td>\n",
              "      <td>10</td>\n",
              "      <td>-0.0033</td>\n",
              "      <td>0.0001</td>\n",
              "      <td>100.0</td>\n",
              "      <td>518.67</td>\n",
              "      <td>641.71</td>\n",
              "      <td>1591.24</td>\n",
              "      <td>1400.46</td>\n",
              "      <td>14.62</td>\n",
              "      <td>21.61</td>\n",
              "      <td>553.59</td>\n",
              "      <td>2388.05</td>\n",
              "      <td>9051.70</td>\n",
              "      <td>1.3</td>\n",
              "      <td>47.03</td>\n",
              "      <td>521.79</td>\n",
              "      <td>2388.06</td>\n",
              "      <td>8129.38</td>\n",
              "      <td>8.4286</td>\n",
              "      <td>0.03</td>\n",
              "      <td>393</td>\n",
              "      <td>2388</td>\n",
              "      <td>100.0</td>\n",
              "      <td>38.95</td>\n",
              "      <td>23.4694</td>\n",
              "    </tr>\n",
              "  </tbody>\n",
              "</table>\n",
              "</div>"
            ],
            "text/plain": [
              "   id  cycle  setting1  setting2  setting3  ...  s17   s18    s19    s20      s21\n",
              "0   1      1   -0.0007   -0.0004     100.0  ...  392  2388  100.0  39.06  23.4190\n",
              "1   1      2    0.0019   -0.0003     100.0  ...  392  2388  100.0  39.00  23.4236\n",
              "2   1      3   -0.0043    0.0003     100.0  ...  390  2388  100.0  38.95  23.3442\n",
              "3   1      4    0.0007    0.0000     100.0  ...  392  2388  100.0  38.88  23.3739\n",
              "4   1      5   -0.0019   -0.0002     100.0  ...  393  2388  100.0  38.90  23.4044\n",
              "5   1      6   -0.0043   -0.0001     100.0  ...  391  2388  100.0  38.98  23.3669\n",
              "6   1      7    0.0010    0.0001     100.0  ...  392  2388  100.0  39.10  23.3774\n",
              "7   1      8   -0.0034    0.0003     100.0  ...  391  2388  100.0  38.97  23.3106\n",
              "8   1      9    0.0008    0.0001     100.0  ...  392  2388  100.0  39.05  23.4066\n",
              "9   1     10   -0.0033    0.0001     100.0  ...  393  2388  100.0  38.95  23.4694\n",
              "\n",
              "[10 rows x 26 columns]"
            ]
          },
          "metadata": {
            "tags": []
          },
          "execution_count": 8
        }
      ]
    },
    {
      "cell_type": "markdown",
      "metadata": {
        "id": "ZzxqZ9GVM81t",
        "colab_type": "text"
      },
      "source": [
        "Hagamos lo mismo para los datos de prueba."
      ]
    },
    {
      "cell_type": "code",
      "metadata": {
        "id": "oXJ118I5NBL2",
        "colab_type": "code",
        "outputId": "a6cced38-9e66-4b54-9d08-e2f7a7b89f87",
        "colab": {
          "base_uri": "https://localhost:8080/",
          "height": 224
        }
      },
      "source": [
        "test_df = pd.read_csv('PM_test.txt', sep=\" \", header=None)\n",
        "test_df.drop(test_df.columns[[26, 27]], axis=1, inplace=True)\n",
        "test_df.columns = ['id', 'cycle', 'setting1', 'setting2', 'setting3', 's1', 's2', 's3',\n",
        "                     's4', 's5', 's6', 's7', 's8', 's9', 's10', 's11', 's12', 's13', 's14',\n",
        "                     's15', 's16', 's17', 's18', 's19', 's20', 's21']\n",
        "test_df.tail(5)"
      ],
      "execution_count": 18,
      "outputs": [
        {
          "output_type": "execute_result",
          "data": {
            "text/html": [
              "<div>\n",
              "<style scoped>\n",
              "    .dataframe tbody tr th:only-of-type {\n",
              "        vertical-align: middle;\n",
              "    }\n",
              "\n",
              "    .dataframe tbody tr th {\n",
              "        vertical-align: top;\n",
              "    }\n",
              "\n",
              "    .dataframe thead th {\n",
              "        text-align: right;\n",
              "    }\n",
              "</style>\n",
              "<table border=\"1\" class=\"dataframe\">\n",
              "  <thead>\n",
              "    <tr style=\"text-align: right;\">\n",
              "      <th></th>\n",
              "      <th>id</th>\n",
              "      <th>cycle</th>\n",
              "      <th>setting1</th>\n",
              "      <th>setting2</th>\n",
              "      <th>setting3</th>\n",
              "      <th>s1</th>\n",
              "      <th>s2</th>\n",
              "      <th>s3</th>\n",
              "      <th>s4</th>\n",
              "      <th>s5</th>\n",
              "      <th>s6</th>\n",
              "      <th>s7</th>\n",
              "      <th>s8</th>\n",
              "      <th>s9</th>\n",
              "      <th>s10</th>\n",
              "      <th>s11</th>\n",
              "      <th>s12</th>\n",
              "      <th>s13</th>\n",
              "      <th>s14</th>\n",
              "      <th>s15</th>\n",
              "      <th>s16</th>\n",
              "      <th>s17</th>\n",
              "      <th>s18</th>\n",
              "      <th>s19</th>\n",
              "      <th>s20</th>\n",
              "      <th>s21</th>\n",
              "    </tr>\n",
              "  </thead>\n",
              "  <tbody>\n",
              "    <tr>\n",
              "      <th>13091</th>\n",
              "      <td>100</td>\n",
              "      <td>194</td>\n",
              "      <td>0.0049</td>\n",
              "      <td>0.0000</td>\n",
              "      <td>100.0</td>\n",
              "      <td>518.67</td>\n",
              "      <td>643.24</td>\n",
              "      <td>1599.45</td>\n",
              "      <td>1415.79</td>\n",
              "      <td>14.62</td>\n",
              "      <td>21.61</td>\n",
              "      <td>553.41</td>\n",
              "      <td>2388.02</td>\n",
              "      <td>9142.37</td>\n",
              "      <td>1.3</td>\n",
              "      <td>47.69</td>\n",
              "      <td>520.69</td>\n",
              "      <td>2388.00</td>\n",
              "      <td>8213.28</td>\n",
              "      <td>8.4715</td>\n",
              "      <td>0.03</td>\n",
              "      <td>394</td>\n",
              "      <td>2388</td>\n",
              "      <td>100.0</td>\n",
              "      <td>38.65</td>\n",
              "      <td>23.1974</td>\n",
              "    </tr>\n",
              "    <tr>\n",
              "      <th>13092</th>\n",
              "      <td>100</td>\n",
              "      <td>195</td>\n",
              "      <td>-0.0011</td>\n",
              "      <td>-0.0001</td>\n",
              "      <td>100.0</td>\n",
              "      <td>518.67</td>\n",
              "      <td>643.22</td>\n",
              "      <td>1595.69</td>\n",
              "      <td>1422.05</td>\n",
              "      <td>14.62</td>\n",
              "      <td>21.61</td>\n",
              "      <td>553.22</td>\n",
              "      <td>2388.05</td>\n",
              "      <td>9140.68</td>\n",
              "      <td>1.3</td>\n",
              "      <td>47.60</td>\n",
              "      <td>521.05</td>\n",
              "      <td>2388.09</td>\n",
              "      <td>8210.85</td>\n",
              "      <td>8.4512</td>\n",
              "      <td>0.03</td>\n",
              "      <td>395</td>\n",
              "      <td>2388</td>\n",
              "      <td>100.0</td>\n",
              "      <td>38.57</td>\n",
              "      <td>23.2771</td>\n",
              "    </tr>\n",
              "    <tr>\n",
              "      <th>13093</th>\n",
              "      <td>100</td>\n",
              "      <td>196</td>\n",
              "      <td>-0.0006</td>\n",
              "      <td>-0.0003</td>\n",
              "      <td>100.0</td>\n",
              "      <td>518.67</td>\n",
              "      <td>643.44</td>\n",
              "      <td>1593.15</td>\n",
              "      <td>1406.82</td>\n",
              "      <td>14.62</td>\n",
              "      <td>21.61</td>\n",
              "      <td>553.04</td>\n",
              "      <td>2388.11</td>\n",
              "      <td>9146.81</td>\n",
              "      <td>1.3</td>\n",
              "      <td>47.57</td>\n",
              "      <td>521.18</td>\n",
              "      <td>2388.04</td>\n",
              "      <td>8217.24</td>\n",
              "      <td>8.4569</td>\n",
              "      <td>0.03</td>\n",
              "      <td>395</td>\n",
              "      <td>2388</td>\n",
              "      <td>100.0</td>\n",
              "      <td>38.62</td>\n",
              "      <td>23.2051</td>\n",
              "    </tr>\n",
              "    <tr>\n",
              "      <th>13094</th>\n",
              "      <td>100</td>\n",
              "      <td>197</td>\n",
              "      <td>-0.0038</td>\n",
              "      <td>0.0001</td>\n",
              "      <td>100.0</td>\n",
              "      <td>518.67</td>\n",
              "      <td>643.26</td>\n",
              "      <td>1594.99</td>\n",
              "      <td>1419.36</td>\n",
              "      <td>14.62</td>\n",
              "      <td>21.61</td>\n",
              "      <td>553.37</td>\n",
              "      <td>2388.07</td>\n",
              "      <td>9148.85</td>\n",
              "      <td>1.3</td>\n",
              "      <td>47.61</td>\n",
              "      <td>521.33</td>\n",
              "      <td>2388.08</td>\n",
              "      <td>8220.48</td>\n",
              "      <td>8.4711</td>\n",
              "      <td>0.03</td>\n",
              "      <td>395</td>\n",
              "      <td>2388</td>\n",
              "      <td>100.0</td>\n",
              "      <td>38.66</td>\n",
              "      <td>23.2699</td>\n",
              "    </tr>\n",
              "    <tr>\n",
              "      <th>13095</th>\n",
              "      <td>100</td>\n",
              "      <td>198</td>\n",
              "      <td>0.0013</td>\n",
              "      <td>0.0003</td>\n",
              "      <td>100.0</td>\n",
              "      <td>518.67</td>\n",
              "      <td>642.95</td>\n",
              "      <td>1601.62</td>\n",
              "      <td>1424.99</td>\n",
              "      <td>14.62</td>\n",
              "      <td>21.61</td>\n",
              "      <td>552.48</td>\n",
              "      <td>2388.06</td>\n",
              "      <td>9155.03</td>\n",
              "      <td>1.3</td>\n",
              "      <td>47.80</td>\n",
              "      <td>521.07</td>\n",
              "      <td>2388.05</td>\n",
              "      <td>8214.64</td>\n",
              "      <td>8.4903</td>\n",
              "      <td>0.03</td>\n",
              "      <td>396</td>\n",
              "      <td>2388</td>\n",
              "      <td>100.0</td>\n",
              "      <td>38.70</td>\n",
              "      <td>23.1855</td>\n",
              "    </tr>\n",
              "  </tbody>\n",
              "</table>\n",
              "</div>"
            ],
            "text/plain": [
              "        id  cycle  setting1  setting2  ...   s18    s19    s20      s21\n",
              "13091  100    194    0.0049    0.0000  ...  2388  100.0  38.65  23.1974\n",
              "13092  100    195   -0.0011   -0.0001  ...  2388  100.0  38.57  23.2771\n",
              "13093  100    196   -0.0006   -0.0003  ...  2388  100.0  38.62  23.2051\n",
              "13094  100    197   -0.0038    0.0001  ...  2388  100.0  38.66  23.2699\n",
              "13095  100    198    0.0013    0.0003  ...  2388  100.0  38.70  23.1855\n",
              "\n",
              "[5 rows x 26 columns]"
            ]
          },
          "metadata": {
            "tags": []
          },
          "execution_count": 18
        }
      ]
    },
    {
      "cell_type": "markdown",
      "metadata": {
        "id": "ucX-L3Z8v0rs",
        "colab_type": "text"
      },
      "source": [
        "Miremos el archivo de ground truth:"
      ]
    },
    {
      "cell_type": "code",
      "metadata": {
        "id": "Dog7iJeMv4VK",
        "colab_type": "code",
        "outputId": "6912693a-a4e6-46a9-bd2d-e7dc531953cb",
        "colab": {
          "base_uri": "https://localhost:8080/",
          "height": 204
        }
      },
      "source": [
        "truth_df = pd.read_csv('PM_truth.txt', sep= \" \", header=None)\n",
        "truth_df.head()"
      ],
      "execution_count": 9,
      "outputs": [
        {
          "output_type": "execute_result",
          "data": {
            "text/html": [
              "<div>\n",
              "<style scoped>\n",
              "    .dataframe tbody tr th:only-of-type {\n",
              "        vertical-align: middle;\n",
              "    }\n",
              "\n",
              "    .dataframe tbody tr th {\n",
              "        vertical-align: top;\n",
              "    }\n",
              "\n",
              "    .dataframe thead th {\n",
              "        text-align: right;\n",
              "    }\n",
              "</style>\n",
              "<table border=\"1\" class=\"dataframe\">\n",
              "  <thead>\n",
              "    <tr style=\"text-align: right;\">\n",
              "      <th></th>\n",
              "      <th>0</th>\n",
              "      <th>1</th>\n",
              "    </tr>\n",
              "  </thead>\n",
              "  <tbody>\n",
              "    <tr>\n",
              "      <th>0</th>\n",
              "      <td>112</td>\n",
              "      <td>NaN</td>\n",
              "    </tr>\n",
              "    <tr>\n",
              "      <th>1</th>\n",
              "      <td>98</td>\n",
              "      <td>NaN</td>\n",
              "    </tr>\n",
              "    <tr>\n",
              "      <th>2</th>\n",
              "      <td>69</td>\n",
              "      <td>NaN</td>\n",
              "    </tr>\n",
              "    <tr>\n",
              "      <th>3</th>\n",
              "      <td>82</td>\n",
              "      <td>NaN</td>\n",
              "    </tr>\n",
              "    <tr>\n",
              "      <th>4</th>\n",
              "      <td>91</td>\n",
              "      <td>NaN</td>\n",
              "    </tr>\n",
              "  </tbody>\n",
              "</table>\n",
              "</div>"
            ],
            "text/plain": [
              "     0   1\n",
              "0  112 NaN\n",
              "1   98 NaN\n",
              "2   69 NaN\n",
              "3   82 NaN\n",
              "4   91 NaN"
            ]
          },
          "metadata": {
            "tags": []
          },
          "execution_count": 9
        }
      ]
    },
    {
      "cell_type": "code",
      "metadata": {
        "id": "r4wt3Gh-w18v",
        "colab_type": "code",
        "outputId": "3218ea68-8bfa-4f63-c82b-43c9a61593e4",
        "colab": {
          "base_uri": "https://localhost:8080/",
          "height": 129
        }
      },
      "source": [
        "Escriba el codigo a continuación para quitar la columan sin información:"
      ],
      "execution_count": 19,
      "outputs": [
        {
          "output_type": "error",
          "ename": "SyntaxError",
          "evalue": "ignored",
          "traceback": [
            "\u001b[0;36m  File \u001b[0;32m\"<ipython-input-19-2161b558ab49>\"\u001b[0;36m, line \u001b[0;32m1\u001b[0m\n\u001b[0;31m    Escriba el codigo a continuación para quitar la columan sin información:\u001b[0m\n\u001b[0m             ^\u001b[0m\n\u001b[0;31mSyntaxError\u001b[0m\u001b[0;31m:\u001b[0m invalid syntax\n"
          ]
        }
      ]
    },
    {
      "cell_type": "code",
      "metadata": {
        "id": "vYPyak9Ew9a_",
        "colab_type": "code",
        "outputId": "4377b4e5-8424-44b2-e757-909a5d64fbae",
        "colab": {
          "base_uri": "https://localhost:8080/",
          "height": 316
        }
      },
      "source": [
        "truth_df.drop(truth_df.columns[[1]], axis=1, inplace=True)\n",
        "truth_df.columns = ['cycle']\n",
        "truth_df.head()"
      ],
      "execution_count": 20,
      "outputs": [
        {
          "output_type": "error",
          "ename": "IndexError",
          "evalue": "ignored",
          "traceback": [
            "\u001b[0;31m---------------------------------------------------------------------------\u001b[0m",
            "\u001b[0;31mIndexError\u001b[0m                                Traceback (most recent call last)",
            "\u001b[0;32m<ipython-input-20-6dba082b1146>\u001b[0m in \u001b[0;36m<module>\u001b[0;34m()\u001b[0m\n\u001b[0;32m----> 1\u001b[0;31m \u001b[0mtruth_df\u001b[0m\u001b[0;34m.\u001b[0m\u001b[0mdrop\u001b[0m\u001b[0;34m(\u001b[0m\u001b[0mtruth_df\u001b[0m\u001b[0;34m.\u001b[0m\u001b[0mcolumns\u001b[0m\u001b[0;34m[\u001b[0m\u001b[0;34m[\u001b[0m\u001b[0;36m1\u001b[0m\u001b[0;34m]\u001b[0m\u001b[0;34m]\u001b[0m\u001b[0;34m,\u001b[0m \u001b[0maxis\u001b[0m\u001b[0;34m=\u001b[0m\u001b[0;36m1\u001b[0m\u001b[0;34m,\u001b[0m \u001b[0minplace\u001b[0m\u001b[0;34m=\u001b[0m\u001b[0;32mTrue\u001b[0m\u001b[0;34m)\u001b[0m\u001b[0;34m\u001b[0m\u001b[0;34m\u001b[0m\u001b[0m\n\u001b[0m\u001b[1;32m      2\u001b[0m \u001b[0mtruth_df\u001b[0m\u001b[0;34m.\u001b[0m\u001b[0mcolumns\u001b[0m \u001b[0;34m=\u001b[0m \u001b[0;34m[\u001b[0m\u001b[0;34m'cycle'\u001b[0m\u001b[0;34m]\u001b[0m\u001b[0;34m\u001b[0m\u001b[0;34m\u001b[0m\u001b[0m\n\u001b[1;32m      3\u001b[0m \u001b[0mtruth_df\u001b[0m\u001b[0;34m.\u001b[0m\u001b[0mhead\u001b[0m\u001b[0;34m(\u001b[0m\u001b[0;34m)\u001b[0m\u001b[0;34m\u001b[0m\u001b[0;34m\u001b[0m\u001b[0m\n",
            "\u001b[0;32m/usr/local/lib/python3.6/dist-packages/pandas/core/indexes/base.py\u001b[0m in \u001b[0;36m__getitem__\u001b[0;34m(self, key)\u001b[0m\n\u001b[1;32m   3967\u001b[0m \u001b[0;34m\u001b[0m\u001b[0m\n\u001b[1;32m   3968\u001b[0m         \u001b[0mkey\u001b[0m \u001b[0;34m=\u001b[0m \u001b[0mcom\u001b[0m\u001b[0;34m.\u001b[0m\u001b[0mvalues_from_object\u001b[0m\u001b[0;34m(\u001b[0m\u001b[0mkey\u001b[0m\u001b[0;34m)\u001b[0m\u001b[0;34m\u001b[0m\u001b[0;34m\u001b[0m\u001b[0m\n\u001b[0;32m-> 3969\u001b[0;31m         \u001b[0mresult\u001b[0m \u001b[0;34m=\u001b[0m \u001b[0mgetitem\u001b[0m\u001b[0;34m(\u001b[0m\u001b[0mkey\u001b[0m\u001b[0;34m)\u001b[0m\u001b[0;34m\u001b[0m\u001b[0;34m\u001b[0m\u001b[0m\n\u001b[0m\u001b[1;32m   3970\u001b[0m         \u001b[0;32mif\u001b[0m \u001b[0;32mnot\u001b[0m \u001b[0mis_scalar\u001b[0m\u001b[0;34m(\u001b[0m\u001b[0mresult\u001b[0m\u001b[0;34m)\u001b[0m\u001b[0;34m:\u001b[0m\u001b[0;34m\u001b[0m\u001b[0;34m\u001b[0m\u001b[0m\n\u001b[1;32m   3971\u001b[0m             \u001b[0;32mreturn\u001b[0m \u001b[0mpromote\u001b[0m\u001b[0;34m(\u001b[0m\u001b[0mresult\u001b[0m\u001b[0;34m)\u001b[0m\u001b[0;34m\u001b[0m\u001b[0;34m\u001b[0m\u001b[0m\n",
            "\u001b[0;31mIndexError\u001b[0m: index 1 is out of bounds for axis 0 with size 1"
          ]
        }
      ]
    },
    {
      "cell_type": "markdown",
      "metadata": {
        "id": "98jYqUouxZLZ",
        "colab_type": "text"
      },
      "source": [
        "**PRE-PROCESAMIENTO DE DATOS**\n",
        "Antes de comenzar con el pre.rpocesamiento de datos. Vamos a comprender en que consisten los datos:\n",
        "En el archivo de entrenamiento, cada motor empieza con un grado diferente de uso inicial y variaciones de manufactura. Se asume que cada motor opera normalmente al comienzo de cada serie de tiempo y comienza a degradarse en algun punto durante la serie del ciclo de operación. La degradación es progresiva y crece en magnitud. Cuando un nivel de umbral es alcanzado, el motor es considerado inseguro. Asi que el ultimo ciclo se puede considerar como el punto de falla del correspondiente motor.\n",
        "\n",
        "Como una forma de practicar y ver lo que sucede en el dataset de entrenamiento. Visualice cual sería el punto de falla para cada motor: \n"
      ]
    },
    {
      "cell_type": "code",
      "metadata": {
        "id": "j_q2UwnL1yHB",
        "colab_type": "code",
        "outputId": "764005d8-20a7-4ba9-9606-59f640894667",
        "colab": {
          "base_uri": "https://localhost:8080/",
          "height": 1000
        }
      },
      "source": [
        "#organizar los datos por id y por ciclos:\n",
        "train_df =train_df.sort_values(['id', 'cycle'])\n",
        "#train_df.head()\n",
        "ultimo_ciclo = train_df.groupby('id')['cycle'].max()\n",
        "ultimo_ciclo"
      ],
      "execution_count": 21,
      "outputs": [
        {
          "output_type": "execute_result",
          "data": {
            "text/plain": [
              "id\n",
              "1      192\n",
              "2      287\n",
              "3      179\n",
              "4      189\n",
              "5      269\n",
              "6      188\n",
              "7      259\n",
              "8      150\n",
              "9      201\n",
              "10     222\n",
              "11     240\n",
              "12     170\n",
              "13     163\n",
              "14     180\n",
              "15     207\n",
              "16     209\n",
              "17     276\n",
              "18     195\n",
              "19     158\n",
              "20     234\n",
              "21     195\n",
              "22     202\n",
              "23     168\n",
              "24     147\n",
              "25     230\n",
              "26     199\n",
              "27     156\n",
              "28     165\n",
              "29     163\n",
              "30     194\n",
              "      ... \n",
              "71     208\n",
              "72     213\n",
              "73     213\n",
              "74     166\n",
              "75     229\n",
              "76     210\n",
              "77     154\n",
              "78     231\n",
              "79     199\n",
              "80     185\n",
              "81     240\n",
              "82     214\n",
              "83     293\n",
              "84     267\n",
              "85     188\n",
              "86     278\n",
              "87     178\n",
              "88     213\n",
              "89     217\n",
              "90     154\n",
              "91     135\n",
              "92     341\n",
              "93     155\n",
              "94     258\n",
              "95     283\n",
              "96     336\n",
              "97     202\n",
              "98     156\n",
              "99     185\n",
              "100    200\n",
              "Name: cycle, Length: 100, dtype: int64"
            ]
          },
          "metadata": {
            "tags": []
          },
          "execution_count": 21
        }
      ]
    },
    {
      "cell_type": "markdown",
      "metadata": {
        "id": "e0fJ6SS-5eGU",
        "colab_type": "text"
      },
      "source": [
        "Como pudo notar existen 100 motores y por ejemplo el motor 1 fallará en el ciclo 192 y el motor 100 fallará en el ciclo 200.\n",
        "Para el dataset de prueba, el esquema es identico al dataset de entrenamiento, solo que en este caso el ultimo ciclo no representa el punto de falla para un motor en particular.\n",
        "\n",
        "El dataset ground truth tendrá entonces  el ciclo donde fallará cada motor del dataset de prueba.\n",
        "\n",
        "Como un ejercicio muestre que para el motor 2 el ultimo ciclo en el dataset de prueba es el 49 y el ciclo en que sera considerado como falla será en el 98:"
      ]
    },
    {
      "cell_type": "code",
      "metadata": {
        "id": "lN0qhHBW_i3d",
        "colab_type": "code",
        "outputId": "fe0b20a7-83c4-414b-95ce-c8830d70b3fa",
        "colab": {
          "base_uri": "https://localhost:8080/",
          "height": 51
        }
      },
      "source": [
        "test_df = test_df.sort_values(['id' , 'cycle'])\n",
        "ultimo_ciclo_test = test_df.groupby('id')['cycle'].max()\n",
        "ultimo_ciclo_test.loc[2] , truth_df.loc[1]"
      ],
      "execution_count": 22,
      "outputs": [
        {
          "output_type": "execute_result",
          "data": {
            "text/plain": [
              "(49, cycle    98\n",
              " Name: 1, dtype: int64)"
            ]
          },
          "metadata": {
            "tags": []
          },
          "execution_count": 22
        }
      ]
    },
    {
      "cell_type": "markdown",
      "metadata": {
        "id": "-qMFC1U8fsjh",
        "colab_type": "text"
      },
      "source": [
        "Comencemos entonces generando etiquetas para los datos de entrenamiento. "
      ]
    },
    {
      "cell_type": "code",
      "metadata": {
        "id": "35x3ZtoJgmz0",
        "colab_type": "code",
        "outputId": "becf5e6b-9673-4b30-a129-08bc8cbb3eb2",
        "colab": {
          "base_uri": "https://localhost:8080/",
          "height": 224
        }
      },
      "source": [
        "#Etiqueta: Generando una columana TVR (Tiempo de vida remanente)\n",
        "tvr = pd.DataFrame(train_df.groupby('id')['cycle'].max()).reset_index()\n",
        "tvr.columns = ['id', 'max']\n",
        "train_df = train_df.merge(tvr, on=['id'], how='left')\n",
        "train_df['TVR'] = train_df['max'] - train_df['cycle']\n",
        "train_df.drop('max', axis=1, inplace=True)\n",
        "train_df.head()"
      ],
      "execution_count": 23,
      "outputs": [
        {
          "output_type": "execute_result",
          "data": {
            "text/html": [
              "<div>\n",
              "<style scoped>\n",
              "    .dataframe tbody tr th:only-of-type {\n",
              "        vertical-align: middle;\n",
              "    }\n",
              "\n",
              "    .dataframe tbody tr th {\n",
              "        vertical-align: top;\n",
              "    }\n",
              "\n",
              "    .dataframe thead th {\n",
              "        text-align: right;\n",
              "    }\n",
              "</style>\n",
              "<table border=\"1\" class=\"dataframe\">\n",
              "  <thead>\n",
              "    <tr style=\"text-align: right;\">\n",
              "      <th></th>\n",
              "      <th>id</th>\n",
              "      <th>cycle</th>\n",
              "      <th>setting1</th>\n",
              "      <th>setting2</th>\n",
              "      <th>setting3</th>\n",
              "      <th>s1</th>\n",
              "      <th>s2</th>\n",
              "      <th>s3</th>\n",
              "      <th>s4</th>\n",
              "      <th>s5</th>\n",
              "      <th>s6</th>\n",
              "      <th>s7</th>\n",
              "      <th>s8</th>\n",
              "      <th>s9</th>\n",
              "      <th>s10</th>\n",
              "      <th>s11</th>\n",
              "      <th>s12</th>\n",
              "      <th>s13</th>\n",
              "      <th>s14</th>\n",
              "      <th>s15</th>\n",
              "      <th>s16</th>\n",
              "      <th>s17</th>\n",
              "      <th>s18</th>\n",
              "      <th>s19</th>\n",
              "      <th>s20</th>\n",
              "      <th>s21</th>\n",
              "      <th>TVR</th>\n",
              "      <th>label1</th>\n",
              "      <th>label2</th>\n",
              "      <th>cycle_norm</th>\n",
              "    </tr>\n",
              "  </thead>\n",
              "  <tbody>\n",
              "    <tr>\n",
              "      <th>0</th>\n",
              "      <td>1</td>\n",
              "      <td>1</td>\n",
              "      <td>0.459770</td>\n",
              "      <td>0.166667</td>\n",
              "      <td>0.0</td>\n",
              "      <td>0.0</td>\n",
              "      <td>0.183735</td>\n",
              "      <td>0.406802</td>\n",
              "      <td>0.309757</td>\n",
              "      <td>0.0</td>\n",
              "      <td>1.0</td>\n",
              "      <td>0.726248</td>\n",
              "      <td>0.242424</td>\n",
              "      <td>0.109755</td>\n",
              "      <td>0.0</td>\n",
              "      <td>0.369048</td>\n",
              "      <td>0.633262</td>\n",
              "      <td>0.205882</td>\n",
              "      <td>0.199608</td>\n",
              "      <td>0.363986</td>\n",
              "      <td>0.0</td>\n",
              "      <td>0.333333</td>\n",
              "      <td>0.0</td>\n",
              "      <td>0.0</td>\n",
              "      <td>0.713178</td>\n",
              "      <td>0.724662</td>\n",
              "      <td>191</td>\n",
              "      <td>0</td>\n",
              "      <td>0</td>\n",
              "      <td>0.00000</td>\n",
              "    </tr>\n",
              "    <tr>\n",
              "      <th>1</th>\n",
              "      <td>1</td>\n",
              "      <td>2</td>\n",
              "      <td>0.609195</td>\n",
              "      <td>0.250000</td>\n",
              "      <td>0.0</td>\n",
              "      <td>0.0</td>\n",
              "      <td>0.283133</td>\n",
              "      <td>0.453019</td>\n",
              "      <td>0.352633</td>\n",
              "      <td>0.0</td>\n",
              "      <td>1.0</td>\n",
              "      <td>0.628019</td>\n",
              "      <td>0.212121</td>\n",
              "      <td>0.100242</td>\n",
              "      <td>0.0</td>\n",
              "      <td>0.380952</td>\n",
              "      <td>0.765458</td>\n",
              "      <td>0.279412</td>\n",
              "      <td>0.162813</td>\n",
              "      <td>0.411312</td>\n",
              "      <td>0.0</td>\n",
              "      <td>0.333333</td>\n",
              "      <td>0.0</td>\n",
              "      <td>0.0</td>\n",
              "      <td>0.666667</td>\n",
              "      <td>0.731014</td>\n",
              "      <td>190</td>\n",
              "      <td>0</td>\n",
              "      <td>0</td>\n",
              "      <td>0.00277</td>\n",
              "    </tr>\n",
              "    <tr>\n",
              "      <th>2</th>\n",
              "      <td>1</td>\n",
              "      <td>3</td>\n",
              "      <td>0.252874</td>\n",
              "      <td>0.750000</td>\n",
              "      <td>0.0</td>\n",
              "      <td>0.0</td>\n",
              "      <td>0.343373</td>\n",
              "      <td>0.369523</td>\n",
              "      <td>0.370527</td>\n",
              "      <td>0.0</td>\n",
              "      <td>1.0</td>\n",
              "      <td>0.710145</td>\n",
              "      <td>0.272727</td>\n",
              "      <td>0.140043</td>\n",
              "      <td>0.0</td>\n",
              "      <td>0.250000</td>\n",
              "      <td>0.795309</td>\n",
              "      <td>0.220588</td>\n",
              "      <td>0.171793</td>\n",
              "      <td>0.357445</td>\n",
              "      <td>0.0</td>\n",
              "      <td>0.166667</td>\n",
              "      <td>0.0</td>\n",
              "      <td>0.0</td>\n",
              "      <td>0.627907</td>\n",
              "      <td>0.621375</td>\n",
              "      <td>189</td>\n",
              "      <td>0</td>\n",
              "      <td>0</td>\n",
              "      <td>0.00554</td>\n",
              "    </tr>\n",
              "    <tr>\n",
              "      <th>3</th>\n",
              "      <td>1</td>\n",
              "      <td>4</td>\n",
              "      <td>0.540230</td>\n",
              "      <td>0.500000</td>\n",
              "      <td>0.0</td>\n",
              "      <td>0.0</td>\n",
              "      <td>0.343373</td>\n",
              "      <td>0.256159</td>\n",
              "      <td>0.331195</td>\n",
              "      <td>0.0</td>\n",
              "      <td>1.0</td>\n",
              "      <td>0.740741</td>\n",
              "      <td>0.318182</td>\n",
              "      <td>0.124518</td>\n",
              "      <td>0.0</td>\n",
              "      <td>0.166667</td>\n",
              "      <td>0.889126</td>\n",
              "      <td>0.294118</td>\n",
              "      <td>0.174889</td>\n",
              "      <td>0.166603</td>\n",
              "      <td>0.0</td>\n",
              "      <td>0.333333</td>\n",
              "      <td>0.0</td>\n",
              "      <td>0.0</td>\n",
              "      <td>0.573643</td>\n",
              "      <td>0.662386</td>\n",
              "      <td>188</td>\n",
              "      <td>0</td>\n",
              "      <td>0</td>\n",
              "      <td>0.00831</td>\n",
              "    </tr>\n",
              "    <tr>\n",
              "      <th>4</th>\n",
              "      <td>1</td>\n",
              "      <td>5</td>\n",
              "      <td>0.390805</td>\n",
              "      <td>0.333333</td>\n",
              "      <td>0.0</td>\n",
              "      <td>0.0</td>\n",
              "      <td>0.349398</td>\n",
              "      <td>0.257467</td>\n",
              "      <td>0.404625</td>\n",
              "      <td>0.0</td>\n",
              "      <td>1.0</td>\n",
              "      <td>0.668277</td>\n",
              "      <td>0.242424</td>\n",
              "      <td>0.149960</td>\n",
              "      <td>0.0</td>\n",
              "      <td>0.255952</td>\n",
              "      <td>0.746269</td>\n",
              "      <td>0.235294</td>\n",
              "      <td>0.174734</td>\n",
              "      <td>0.402078</td>\n",
              "      <td>0.0</td>\n",
              "      <td>0.416667</td>\n",
              "      <td>0.0</td>\n",
              "      <td>0.0</td>\n",
              "      <td>0.589147</td>\n",
              "      <td>0.704502</td>\n",
              "      <td>187</td>\n",
              "      <td>0</td>\n",
              "      <td>0</td>\n",
              "      <td>0.01108</td>\n",
              "    </tr>\n",
              "  </tbody>\n",
              "</table>\n",
              "</div>"
            ],
            "text/plain": [
              "   id  cycle  setting1  setting2  ...  TVR  label1  label2  cycle_norm\n",
              "0   1      1  0.459770  0.166667  ...  191       0       0     0.00000\n",
              "1   1      2  0.609195  0.250000  ...  190       0       0     0.00277\n",
              "2   1      3  0.252874  0.750000  ...  189       0       0     0.00554\n",
              "3   1      4  0.540230  0.500000  ...  188       0       0     0.00831\n",
              "4   1      5  0.390805  0.333333  ...  187       0       0     0.01108\n",
              "\n",
              "[5 rows x 30 columns]"
            ]
          },
          "metadata": {
            "tags": []
          },
          "execution_count": 23
        }
      ]
    },
    {
      "cell_type": "markdown",
      "metadata": {
        "id": "lbkgOuuuypW6",
        "colab_type": "text"
      },
      "source": [
        "Existen varias preguntas que se podrían intentar responder desde el punto de vista de mantenimiento predictivo. Dependiendo de la pregunta asi mismo sería el tipo de modelo de machine learning que deberiamos usar. Por ejemplo: podriamos usar un **modelo de regresión** si la pregunta fuese: ¿Cuantos ciclos de más tendrá un determinado motor antes de fallar?; podriamos usar un **clasificador multi clase** si la pregunta fuese: ¿Este motor fallará dentro del rango de ciclos [1, W0] o fallará dentro del rango de ciclos [wo+1, w1] o este no fallará dentro de w1 ciclos?\n",
        "Nosotros nos centraremos en un **clasificador binario** que nos de respuesta a la siguiente pregunta: ¿Este motor fallará dentro de los w1 ciclos?\n"
      ]
    },
    {
      "cell_type": "code",
      "metadata": {
        "id": "n2H2x2w_zOyE",
        "colab_type": "code",
        "colab": {}
      },
      "source": [
        "w1 = 30\n",
        "w0 = 15\n",
        "train_df['label1'] = np.where(train_df['TVR'] <= w1, 1, 0 )\n",
        "train_df['label2'] = train_df['label1']\n",
        "train_df.loc[train_df['TVR'] <= w0, 'label2'] = 2"
      ],
      "execution_count": 0,
      "outputs": []
    },
    {
      "cell_type": "markdown",
      "metadata": {
        "id": "P5itFACpX_GA",
        "colab_type": "text"
      },
      "source": [
        "Note como los valores de los diferentes sensores no han sido normalizados. Normalicemos los valores entre 0 y 1."
      ]
    },
    {
      "cell_type": "code",
      "metadata": {
        "id": "e_lWuZIQYM9c",
        "colab_type": "code",
        "colab": {}
      },
      "source": [
        "# MinMax normalizacion (Entre 0 y 1)\n",
        "train_df['cycle_norm'] = train_df['cycle']\n",
        "cols_normalize = train_df.columns.difference(['id','cycle','TVR','label1','label2'])\n",
        "min_max_scaler = preprocessing.MinMaxScaler()\n",
        "norm_train_df = pd.DataFrame(min_max_scaler.fit_transform(train_df[cols_normalize]), \n",
        "                             columns=cols_normalize, \n",
        "                             index=train_df.index)\n",
        "join_df = train_df[train_df.columns.difference(cols_normalize)].join(norm_train_df)\n",
        "train_df = join_df.reindex(columns = train_df.columns)"
      ],
      "execution_count": 0,
      "outputs": []
    },
    {
      "cell_type": "markdown",
      "metadata": {
        "id": "qYAniYa8ZIdV",
        "colab_type": "text"
      },
      "source": [
        "Vamos a usar los datos en el ground truth para generar etiquetas sobre los datos de prueba. Generamos entonces la columna MAX para los datos de prueba."
      ]
    },
    {
      "cell_type": "code",
      "metadata": {
        "id": "FkmZumJvZL6f",
        "colab_type": "code",
        "colab": {}
      },
      "source": [
        "tvr = pd.DataFrame(test_df.groupby('id')['cycle'].max()).reset_index()\n",
        "tvr.columns = ['id', 'max']\n",
        "truth_df.columns = ['more']\n",
        "truth_df['id'] = truth_df.index + 1\n",
        "truth_df['max'] = tvr['max'] + truth_df['more']\n",
        "truth_df.drop('more', axis=1, inplace=True)"
      ],
      "execution_count": 0,
      "outputs": []
    },
    {
      "cell_type": "markdown",
      "metadata": {
        "id": "CVF_SwOoZyiQ",
        "colab_type": "text"
      },
      "source": [
        "Generamos TVR para los datos de prueba."
      ]
    },
    {
      "cell_type": "code",
      "metadata": {
        "id": "ypislrhvZtYy",
        "colab_type": "code",
        "colab": {}
      },
      "source": [
        "test_df = test_df.merge(truth_df, on=['id'], how='left')\n",
        "test_df['TVR'] = test_df['max'] - test_df['cycle']\n",
        "test_df.drop('max', axis=1, inplace=True)"
      ],
      "execution_count": 0,
      "outputs": []
    },
    {
      "cell_type": "markdown",
      "metadata": {
        "id": "JOl4PZR3Z_lF",
        "colab_type": "text"
      },
      "source": [
        "Generamos las etiquetas de las columnas w0 y w1 para los datos de prueba"
      ]
    },
    {
      "cell_type": "code",
      "metadata": {
        "id": "eXOkoyrXaACk",
        "colab_type": "code",
        "colab": {}
      },
      "source": [
        "test_df['label1'] = np.where(test_df['TVR'] <= w1, 1, 0 )\n",
        "test_df['label2'] = test_df['label1']\n",
        "test_df.loc[test_df['TVR'] <= w0, 'label2'] = 2"
      ],
      "execution_count": 0,
      "outputs": []
    },
    {
      "cell_type": "markdown",
      "metadata": {
        "id": "7CVxSEtiaV2w",
        "colab_type": "text"
      },
      "source": [
        "Definamos una ventana con un buen numero de ciclos para nuestra LSTM "
      ]
    },
    {
      "cell_type": "code",
      "metadata": {
        "id": "LPJ6xVxfagZU",
        "colab_type": "code",
        "colab": {}
      },
      "source": [
        "sequence_length = 50"
      ],
      "execution_count": 0,
      "outputs": []
    },
    {
      "cell_type": "markdown",
      "metadata": {
        "id": "OvGsJCKOaoww",
        "colab_type": "text"
      },
      "source": [
        "Creemos una funcion para realizar un reshape de las caracteristicas, tal como lo pide un modelo LSTM: samples, time steps, features \n",
        "\n",
        "Aqui no sera usado el metodo de padding (rellenar con algun dato de tal forma que se complete el tamaño de ventana sugerido para el modelo LSTM) Por lo tanto nosotros quitaremos las secuencias que no cumplan con este requisito. Como pueden ver una alterantiva seria realizar previamente una labor de padding, basado en el tamaño de la ventana sugerida."
      ]
    },
    {
      "cell_type": "code",
      "metadata": {
        "id": "ZCE-AQzrapPF",
        "colab_type": "code",
        "colab": {}
      },
      "source": [
        "def gen_sequence(id_df, seq_length, seq_cols):\n",
        "    \n",
        "    data_matrix = id_df[seq_cols].values #Todas las filas son colocadas en una matriz para un Id especifico.\n",
        "    num_elements = data_matrix.shape[0]\n",
        "    #Iterando sobre dos listas en paralelo\n",
        "    for start, stop in zip(range(0, num_elements-seq_length), range(seq_length, num_elements)):\n",
        "        yield data_matrix[start:stop, :]"
      ],
      "execution_count": 0,
      "outputs": []
    },
    {
      "cell_type": "markdown",
      "metadata": {
        "id": "q3vIa5eNcgPD",
        "colab_type": "text"
      },
      "source": [
        "Tomando las columnas de features"
      ]
    },
    {
      "cell_type": "code",
      "metadata": {
        "id": "aim058OEcg6v",
        "colab_type": "code",
        "colab": {}
      },
      "source": [
        "sensor_cols = ['s' + str(i) for i in range(1,22)] #22 sensores\n",
        "sequence_cols = ['setting1', 'setting2', 'setting3', 'cycle_norm']\n",
        "sequence_cols.extend(sensor_cols)"
      ],
      "execution_count": 0,
      "outputs": []
    },
    {
      "cell_type": "markdown",
      "metadata": {
        "id": "M6UrQg5Mc2q2",
        "colab_type": "text"
      },
      "source": [
        "Generador de las secuencias. Aqui debemos transformar cada Id de los datosw de entrenamiento en una secuencia."
      ]
    },
    {
      "cell_type": "code",
      "metadata": {
        "id": "1l-ux16cc27R",
        "colab_type": "code",
        "colab": {}
      },
      "source": [
        "seq_gen = (list(gen_sequence(train_df[train_df['id']==id], sequence_length, sequence_cols)) \n",
        "           for id in train_df['id'].unique())"
      ],
      "execution_count": 0,
      "outputs": []
    },
    {
      "cell_type": "markdown",
      "metadata": {
        "id": "3Z0twucndIdh",
        "colab_type": "text"
      },
      "source": [
        "Las secuencias las convertimos como arreglos de numpy"
      ]
    },
    {
      "cell_type": "code",
      "metadata": {
        "id": "9q0kg6fldIs6",
        "colab_type": "code",
        "outputId": "5615f530-6479-4752-e8cc-a36c760bfe24",
        "colab": {
          "base_uri": "https://localhost:8080/",
          "height": 34
        }
      },
      "source": [
        "seq_array = np.concatenate(list(seq_gen)).astype(np.float32)\n",
        "print(seq_array.shape)"
      ],
      "execution_count": 33,
      "outputs": [
        {
          "output_type": "stream",
          "text": [
            "(15631, 50, 25)\n"
          ],
          "name": "stdout"
        }
      ]
    },
    {
      "cell_type": "markdown",
      "metadata": {
        "id": "eWWcRdN9dkbZ",
        "colab_type": "text"
      },
      "source": [
        "Creemos una funcion que nos permita generar etiquetas.\n",
        "Aqui debemos tener cuidado con las secuencias que no cumplan con el tamaño de ventana sugerido y eliminarlas."
      ]
    },
    {
      "cell_type": "code",
      "metadata": {
        "id": "jA_dSOeodkuh",
        "colab_type": "code",
        "colab": {}
      },
      "source": [
        "# function to generate labels\n",
        "def gen_labels(id_df, seq_length, label):\n",
        "    data_matrix = id_df[label].values\n",
        "    num_elements = data_matrix.shape[0]\n",
        "    return data_matrix[seq_length:num_elements, :]"
      ],
      "execution_count": 0,
      "outputs": []
    },
    {
      "cell_type": "markdown",
      "metadata": {
        "id": "8JLoAcneeBWz",
        "colab_type": "text"
      },
      "source": [
        "Generemos las etiquetas usando la funcion previamente creada"
      ]
    },
    {
      "cell_type": "code",
      "metadata": {
        "id": "7rAGvf4peBlN",
        "colab_type": "code",
        "outputId": "4dc311c2-0972-4bf4-df19-80950626f5ef",
        "colab": {
          "base_uri": "https://localhost:8080/",
          "height": 34
        }
      },
      "source": [
        "label_gen = [gen_labels(train_df[train_df['id']==id], sequence_length, ['TVR']) \n",
        "             for id in train_df['id'].unique()]\n",
        "\n",
        "label_array = np.concatenate(label_gen).astype(np.float32)\n",
        "label_array.shape"
      ],
      "execution_count": 36,
      "outputs": [
        {
          "output_type": "execute_result",
          "data": {
            "text/plain": [
              "(15631, 1)"
            ]
          },
          "metadata": {
            "tags": []
          },
          "execution_count": 36
        }
      ]
    },
    {
      "cell_type": "markdown",
      "metadata": {
        "id": "cz7s6_KxesUu",
        "colab_type": "text"
      },
      "source": [
        "***Modelando la red LSTM***\n",
        "\n",
        "La primera capa es una capa LSTM con 100 unidades seguida por otra capa LSTM con 50 unidades.\n",
        "La funcion de eliminacion (dropout) es usada despues de cada LSTM para controlar el problema de overfitting.\n",
        "La capa final es una capa de salida densa con un sola unidad que posee una funcion de activacion sigmoide (por ser un probelma de clasificaciòn binaria)"
      ]
    },
    {
      "cell_type": "code",
      "metadata": {
        "id": "Q9x-UdAaeskt",
        "colab_type": "code",
        "outputId": "d0edb3ad-4cfb-4787-b4f5-64237c4d6849",
        "colab": {
          "base_uri": "https://localhost:8080/",
          "height": 683
        }
      },
      "source": [
        "nb_features = seq_array.shape[2]\n",
        "nb_out = label_array.shape[1]\n",
        "\n",
        "model = Sequential()\n",
        "\n",
        "model.add(LSTM(\n",
        "         input_shape=(sequence_length, nb_features),\n",
        "         units=100,\n",
        "         return_sequences=True))\n",
        "model.add(Dropout(0.2))\n",
        "\n",
        "model.add(LSTM(\n",
        "          units=50,\n",
        "          return_sequences=False))\n",
        "model.add(Dropout(0.2))\n",
        "\n",
        "model.add(Dense(units=nb_out, activation='sigmoid'))\n",
        "model.compile(loss='binary_crossentropy', optimizer='adam', metrics=['accuracy'])\n",
        "\n",
        "print(model.summary()) #Imprimiendo un resumen del modelo de red creado"
      ],
      "execution_count": 37,
      "outputs": [
        {
          "output_type": "stream",
          "text": [
            "WARNING: Logging before flag parsing goes to stderr.\n",
            "W0831 07:27:28.622405 140658066843520 deprecation_wrapper.py:119] From /usr/local/lib/python3.6/dist-packages/keras/backend/tensorflow_backend.py:66: The name tf.get_default_graph is deprecated. Please use tf.compat.v1.get_default_graph instead.\n",
            "\n",
            "W0831 07:27:28.670745 140658066843520 deprecation_wrapper.py:119] From /usr/local/lib/python3.6/dist-packages/keras/backend/tensorflow_backend.py:541: The name tf.placeholder is deprecated. Please use tf.compat.v1.placeholder instead.\n",
            "\n",
            "W0831 07:27:28.680424 140658066843520 deprecation_wrapper.py:119] From /usr/local/lib/python3.6/dist-packages/keras/backend/tensorflow_backend.py:4432: The name tf.random_uniform is deprecated. Please use tf.random.uniform instead.\n",
            "\n",
            "W0831 07:27:28.956618 140658066843520 deprecation_wrapper.py:119] From /usr/local/lib/python3.6/dist-packages/keras/backend/tensorflow_backend.py:148: The name tf.placeholder_with_default is deprecated. Please use tf.compat.v1.placeholder_with_default instead.\n",
            "\n",
            "W0831 07:27:28.967109 140658066843520 deprecation.py:506] From /usr/local/lib/python3.6/dist-packages/keras/backend/tensorflow_backend.py:3733: calling dropout (from tensorflow.python.ops.nn_ops) with keep_prob is deprecated and will be removed in a future version.\n",
            "Instructions for updating:\n",
            "Please use `rate` instead of `keep_prob`. Rate should be set to `rate = 1 - keep_prob`.\n",
            "W0831 07:27:29.224153 140658066843520 deprecation_wrapper.py:119] From /usr/local/lib/python3.6/dist-packages/keras/optimizers.py:793: The name tf.train.Optimizer is deprecated. Please use tf.compat.v1.train.Optimizer instead.\n",
            "\n",
            "W0831 07:27:29.247437 140658066843520 deprecation_wrapper.py:119] From /usr/local/lib/python3.6/dist-packages/keras/backend/tensorflow_backend.py:3657: The name tf.log is deprecated. Please use tf.math.log instead.\n",
            "\n",
            "W0831 07:27:29.254575 140658066843520 deprecation.py:323] From /usr/local/lib/python3.6/dist-packages/tensorflow/python/ops/nn_impl.py:180: add_dispatch_support.<locals>.wrapper (from tensorflow.python.ops.array_ops) is deprecated and will be removed in a future version.\n",
            "Instructions for updating:\n",
            "Use tf.where in 2.0, which has the same broadcast rule as np.where\n"
          ],
          "name": "stderr"
        },
        {
          "output_type": "stream",
          "text": [
            "Model: \"sequential_1\"\n",
            "_________________________________________________________________\n",
            "Layer (type)                 Output Shape              Param #   \n",
            "=================================================================\n",
            "lstm_1 (LSTM)                (None, 50, 100)           50400     \n",
            "_________________________________________________________________\n",
            "dropout_1 (Dropout)          (None, 50, 100)           0         \n",
            "_________________________________________________________________\n",
            "lstm_2 (LSTM)                (None, 50)                30200     \n",
            "_________________________________________________________________\n",
            "dropout_2 (Dropout)          (None, 50)                0         \n",
            "_________________________________________________________________\n",
            "dense_1 (Dense)              (None, 1)                 51        \n",
            "=================================================================\n",
            "Total params: 80,651\n",
            "Trainable params: 80,651\n",
            "Non-trainable params: 0\n",
            "_________________________________________________________________\n",
            "None\n"
          ],
          "name": "stdout"
        }
      ]
    },
    {
      "cell_type": "markdown",
      "metadata": {
        "id": "tLN2QcMTlsme",
        "colab_type": "text"
      },
      "source": [
        "Ahora vamos a colocar a entrenar la red. Aqui se estan presentando dos problemas, dado que el modelo sera guardado en github, algunas veces no entiende la ruta y genera un problema en la primera epoca. \n",
        "el entrenamiento esta durando aproximadamente 5 minutos. Tengo probelmas con el entrenamiento. El dia de maána estare revisando que esta sucediendo."
      ]
    },
    {
      "cell_type": "code",
      "metadata": {
        "id": "_X0XK_Fig-Pb",
        "colab_type": "code",
        "outputId": "7053ce8e-a4d2-4f2e-d5f8-6c69d47f3a49",
        "colab": {
          "base_uri": "https://localhost:8080/",
          "height": 442
        }
      },
      "source": [
        "model_path = 'binarymodel.h5'\n",
        "\n",
        "\n",
        "history = model.fit(seq_array, label_array, epochs=100, batch_size=200, validation_split=0.05, verbose=2,\n",
        "          callbacks = [keras.callbacks.EarlyStopping(monitor='val_loss', min_delta=0, patience=10, verbose=0, mode='min'),\n",
        "                       keras.callbacks.ModelCheckpoint(model_path,monitor='val_loss', save_best_only=True, mode='min', verbose=0)]\n",
        "          )"
      ],
      "execution_count": 38,
      "outputs": [
        {
          "output_type": "stream",
          "text": [
            "Train on 14849 samples, validate on 782 samples\n",
            "Epoch 1/100\n",
            " - 21s - loss: -7.0461e+02 - acc: 0.0063 - val_loss: -1.0332e+03 - val_acc: 0.0064\n",
            "Epoch 2/100\n",
            " - 19s - loss: -1.1921e+03 - acc: 0.0064 - val_loss: -1.3235e+03 - val_acc: 0.0064\n",
            "Epoch 3/100\n",
            " - 19s - loss: -1.3199e+03 - acc: 0.0064 - val_loss: -1.3235e+03 - val_acc: 0.0064\n",
            "Epoch 4/100\n",
            " - 19s - loss: -1.3282e+03 - acc: 0.0064 - val_loss: -1.3235e+03 - val_acc: 0.0064\n",
            "Epoch 5/100\n",
            " - 19s - loss: -1.3297e+03 - acc: 0.0064 - val_loss: -1.3235e+03 - val_acc: 0.0064\n",
            "Epoch 6/100\n",
            " - 19s - loss: -1.3302e+03 - acc: 0.0064 - val_loss: -1.3235e+03 - val_acc: 0.0064\n",
            "Epoch 7/100\n",
            " - 19s - loss: -1.3304e+03 - acc: 0.0064 - val_loss: -1.3235e+03 - val_acc: 0.0064\n",
            "Epoch 8/100\n",
            " - 19s - loss: -1.3304e+03 - acc: 0.0064 - val_loss: -1.3235e+03 - val_acc: 0.0064\n",
            "Epoch 9/100\n",
            " - 19s - loss: -1.3306e+03 - acc: 0.0064 - val_loss: -1.3235e+03 - val_acc: 0.0064\n",
            "Epoch 10/100\n",
            " - 20s - loss: -1.3306e+03 - acc: 0.0064 - val_loss: -1.3235e+03 - val_acc: 0.0064\n",
            "Epoch 11/100\n",
            " - 20s - loss: -1.3307e+03 - acc: 0.0064 - val_loss: -1.3235e+03 - val_acc: 0.0064\n",
            "Epoch 12/100\n",
            " - 19s - loss: -1.3308e+03 - acc: 0.0064 - val_loss: -1.3235e+03 - val_acc: 0.0064\n"
          ],
          "name": "stdout"
        }
      ]
    },
    {
      "cell_type": "markdown",
      "metadata": {
        "id": "24oq3lfxmDwg",
        "colab_type": "text"
      },
      "source": [
        ""
      ]
    },
    {
      "cell_type": "code",
      "metadata": {
        "id": "_1G2r11umEcG",
        "colab_type": "code",
        "colab": {
          "base_uri": "https://localhost:8080/",
          "height": 34
        },
        "outputId": "e831ca13-e261-4127-f071-06a99e7242c8"
      },
      "source": [
        "print(history.history.keys())\n"
      ],
      "execution_count": 39,
      "outputs": [
        {
          "output_type": "stream",
          "text": [
            "dict_keys(['val_loss', 'val_acc', 'loss', 'acc'])\n"
          ],
          "name": "stdout"
        }
      ]
    },
    {
      "cell_type": "markdown",
      "metadata": {
        "id": "8qXfIAaomZ9_",
        "colab_type": "text"
      },
      "source": [
        "Miremos la grafica del accuracy"
      ]
    },
    {
      "cell_type": "code",
      "metadata": {
        "id": "VZpNrTeBmaUr",
        "colab_type": "code",
        "colab": {
          "base_uri": "https://localhost:8080/",
          "height": 621
        },
        "outputId": "271001e7-e228-4e14-a6ce-59601ea22719"
      },
      "source": [
        "fig_acc = plt.figure(figsize=(10, 10))\n",
        "plt.plot(history.history['acc'])\n",
        "plt.plot(history.history['val_acc'])\n",
        "plt.title('model accuracy')\n",
        "plt.ylabel('accuracy')\n",
        "plt.xlabel('epoch')\n",
        "plt.legend(['train', 'test'], loc='upper left')\n",
        "plt.show()"
      ],
      "execution_count": 40,
      "outputs": [
        {
          "output_type": "display_data",
          "data": {
            "image/png": "[encoded data removed]",
            "text/plain": [
              "<Figure size 720x720 with 1 Axes>"
            ]
          },
          "metadata": {
            "tags": []
          }
        }
      ]
    },
    {
      "cell_type": "markdown",
      "metadata": {
        "id": "iBaXxXy9mv09",
        "colab_type": "text"
      },
      "source": [
        "Miremos la grafica para el LOSS"
      ]
    },
    {
      "cell_type": "code",
      "metadata": {
        "id": "z53zziBwmwSv",
        "colab_type": "code",
        "colab": {
          "base_uri": "https://localhost:8080/",
          "height": 621
        },
        "outputId": "3ab8aed7-61d3-4d7c-b25c-89dc99431a21"
      },
      "source": [
        "fig_acc = plt.figure(figsize=(10, 10))\n",
        "plt.plot(history.history['loss'])\n",
        "plt.plot(history.history['val_loss'])\n",
        "plt.title('model loss')\n",
        "plt.ylabel('loss')\n",
        "plt.xlabel('epoch')\n",
        "plt.legend(['train', 'test'], loc='upper left')\n",
        "plt.show()"
      ],
      "execution_count": 41,
      "outputs": [
        {
          "output_type": "display_data",
          "data": {
            "image/png": "[encoded data removed]",
            "text/plain": [
              "<Figure size 720x720 with 1 Axes>"
            ]
          },
          "metadata": {
            "tags": []
          }
        }
      ]
    }
  ]
}