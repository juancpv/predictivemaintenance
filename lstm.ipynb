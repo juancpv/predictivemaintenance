{
  "nbformat": 4,
  "nbformat_minor": 0,
  "metadata": {
    "colab": {
      "name": "lstm.ipynb",
      "version": "0.3.2",
      "provenance": [],
      "collapsed_sections": [],
      "include_colab_link": true
    },
    "kernelspec": {
      "name": "python3",
      "display_name": "Python 3"
    }
  },
  "cells": [
    {
      "cell_type": "markdown",
      "metadata": {
        "id": "view-in-github",
        "colab_type": "text"
      },
      "source": [
        "<a href=\"https://colab.research.google.com/github/juancpv/predictivemaintenance/blob/master/lstm.ipynb\" target=\"_parent\"><img src=\"https://colab.research.google.com/assets/colab-badge.svg\" alt=\"Open In Colab\"/></a>"
      ]
    },
    {
      "cell_type": "markdown",
      "metadata": {
        "id": "GelzjDHv0f8D",
        "colab_type": "text"
      },
      "source": [
        "Antes de empezar a entrenar nuestro sistema de predicción de fallos. Aclaremos que estaremos trabajando en una maquina virtual con sistema operativo Linux y que usaremos python como lenguaje de programación.\n",
        "Cada vez que queramos usar un comando de terminal de ubuntu, añadiremos al inicio de la instruccion el simbolo de exclamación (!)\n",
        "A continuación importamos todas las librerias que usaremos a lo largo de este tutorial. A medida que las usemos las explicaremos en mas detalle.\n",
        "\n"
      ]
    },
    {
      "cell_type": "code",
      "metadata": {
        "id": "G-eYrDxypAT7",
        "colab_type": "code",
        "colab": {}
      },
      "source": [
        "import keras  #Biblioteca de redes neuronales \n",
        "import pandas as pd  #Biblioteca  para manipulación de datos\n",
        "import numpy as np #Biblioteca para soporte  de operaciones matematicas de alto nivel en matrices y vectores.\n",
        "import matplotlib.pyplot as plt #biblioteca para manejo de graficos\n",
        "\n",
        "# Some tools\n",
        "from sklearn import preprocessing #Paquete que permite la estandarizacion de datoscomo beneficio para los algoritmos de aprendizaje.\n",
        "from sklearn.metrics import confusion_matrix, recall_score, precision_score # Paquete para medir el performance del clasificador.\n",
        "from keras.models import Sequential \n",
        "from keras.layers import Dense, Dropout, LSTM"
      ],
      "execution_count": 0,
      "outputs": []
    },
    {
      "cell_type": "markdown",
      "metadata": {
        "id": "p5NCXo3z-7I9",
        "colab_type": "text"
      },
      "source": [
        "\n",
        "  **DATASETS.**\n",
        "\n",
        "Para este ejercicio nosotros haremos uso de un dataset de Azure. Los datos consisten en tres archivos de texto: training, testing y ground truth en el caso de motores de aeronaves. \n",
        "\n",
        "\n",
        "*   El dataset de entrenamiento consiste de un conjunto de series de tiempo multivariable (21 sensores) con la unidad de tiempo medida en ciclos.\n",
        "*   El dataset de pruebas, tiene el mismo esquema que el de entrenamiento, con la unica diferencia que estos no incluyen la etiqueta de ocurrencia de falla.\n",
        "*   El datset de ground truth contiene información de ciclos restantes de trabajo de los motores\n",
        "\n",
        "\n",
        "\n",
        "\n",
        "A continuación se dan los comandos para obtener los datasets (recuerde que esto es una maquina con sistema operativo Linux).\n",
        "\n",
        "\n",
        "\n"
      ]
    },
    {
      "cell_type": "code",
      "metadata": {
        "id": "-xdTXDP0GF5F",
        "colab_type": "code",
        "colab": {}
      },
      "source": [
        "!wget http://azuremlsamples.azureml.net/templatedata/PM_train.txt \n",
        "!wget http://azuremlsamples.azureml.net/templatedata/PM_test.txt\n",
        "!wget http://azuremlsamples.azureml.net/templatedata/PM_truth.txt"
      ],
      "execution_count": 0,
      "outputs": []
    },
    {
      "cell_type": "markdown",
      "metadata": {
        "id": "pvov6dQFHs-9",
        "colab_type": "text"
      },
      "source": [
        "Examinemos un poco los datos con los cuales vamos a trabajar:"
      ]
    },
    {
      "cell_type": "code",
      "metadata": {
        "id": "pgPWKoIlH195",
        "colab_type": "code",
        "colab": {}
      },
      "source": [
        "train_df = pd.read_csv('PM_train.txt', sep=\" \", header=None)\n",
        "train_df.head(10) # Por defecto el numero de filas sera 5.\n"
      ],
      "execution_count": 0,
      "outputs": []
    },
    {
      "cell_type": "markdown",
      "metadata": {
        "id": "_l3ZP7yWJVTY",
        "colab_type": "text"
      },
      "source": [
        "Podemos observar como las dos ultimas columnas no tienen datos. Vamos a usar la funcion de pandas DROP para eliminar esas columnas."
      ]
    },
    {
      "cell_type": "code",
      "metadata": {
        "id": "JVPkA15yJkmo",
        "colab_type": "code",
        "colab": {}
      },
      "source": [
        "train_df.drop(train_df.columns[[26,27]], axis=1, inplace=True)\n",
        "train_df.head()\n"
      ],
      "execution_count": 0,
      "outputs": []
    },
    {
      "cell_type": "markdown",
      "metadata": {
        "id": "HJ4u-k6yLP-P",
        "colab_type": "text"
      },
      "source": [
        "Dado que el dataset no contiene etiquetas para las  diferentes columnas, vamos a hacerlo tomando en cuenta el [template](https://gallery.azure.ai/Experiment/Predictive-Maintenance-Step-1-of-3-data-preparation-and-feature-engineering-2) de la pagina de Azure."
      ]
    },
    {
      "cell_type": "code",
      "metadata": {
        "id": "CSLyp9kHLkZv",
        "colab_type": "code",
        "colab": {}
      },
      "source": [
        "train_df.columns = ['id', 'cycle', 'setting1', 'setting2', 'setting3', 's1', 's2', 's3',\n",
        "                     's4', 's5', 's6', 's7', 's8', 's9', 's10', 's11', 's12', 's13', 's14',\n",
        "                     's15', 's16', 's17', 's18', 's19', 's20', 's21']\n",
        "train_df.head(10)"
      ],
      "execution_count": 0,
      "outputs": []
    },
    {
      "cell_type": "markdown",
      "metadata": {
        "id": "ZzxqZ9GVM81t",
        "colab_type": "text"
      },
      "source": [
        "Hagamos lo mismo para los datos de prueba."
      ]
    },
    {
      "cell_type": "code",
      "metadata": {
        "id": "oXJ118I5NBL2",
        "colab_type": "code",
        "colab": {}
      },
      "source": [
        "test_df = pd.read_csv('PM_test.txt', sep=\" \", header=None)\n",
        "test_df.drop(test_df.columns[[26, 27]], axis=1, inplace=True)\n",
        "test_df.columns = ['id', 'cycle', 'setting1', 'setting2', 'setting3', 's1', 's2', 's3',\n",
        "                     's4', 's5', 's6', 's7', 's8', 's9', 's10', 's11', 's12', 's13', 's14',\n",
        "                     's15', 's16', 's17', 's18', 's19', 's20', 's21']\n",
        "test_df.tail(5)"
      ],
      "execution_count": 0,
      "outputs": []
    },
    {
      "cell_type": "markdown",
      "metadata": {
        "id": "ucX-L3Z8v0rs",
        "colab_type": "text"
      },
      "source": [
        "Miremos el archivo de ground truth:"
      ]
    },
    {
      "cell_type": "code",
      "metadata": {
        "id": "Dog7iJeMv4VK",
        "colab_type": "code",
        "colab": {}
      },
      "source": [
        "truth_df = pd.read_csv('PM_truth.txt', sep= \" \", header=None)\n",
        "truth_df.head()"
      ],
      "execution_count": 0,
      "outputs": []
    },
    {
      "cell_type": "code",
      "metadata": {
        "id": "r4wt3Gh-w18v",
        "colab_type": "code",
        "colab": {}
      },
      "source": [
        "Escriba el codigo a continuación para quitar la columan sin información:"
      ],
      "execution_count": 0,
      "outputs": []
    },
    {
      "cell_type": "code",
      "metadata": {
        "id": "vYPyak9Ew9a_",
        "colab_type": "code",
        "colab": {}
      },
      "source": [
        "truth_df.drop(truth_df.columns[[1]], axis=1, inplace=True)\n",
        "truth_df.columns = ['cycle']\n",
        "truth_df.head()"
      ],
      "execution_count": 0,
      "outputs": []
    },
    {
      "cell_type": "markdown",
      "metadata": {
        "id": "98jYqUouxZLZ",
        "colab_type": "text"
      },
      "source": [
        "**PRE-PROCESAMIENTO DE DATOS**\n",
        "Antes de comenzar con el pre.rpocesamiento de datos. Vamos a comprender en que consisten los datos:\n",
        "En el archivo de entrenamiento, cada motor empieza con un grado diferente de uso inicial y variaciones de manufactura. Se asume que cada motor opera normalmente al comienzo de cada serie de tiempo y comienza a degradarse en algun punto durante la serie del ciclo de operación. La degradación es progresiva y crece en magnitud. Cuando un nivel de umbral es alcanzado, el motor es considerado inseguro. Asi que el ultimo ciclo se puede considerar como el punto de falla del correspondiente motor.\n",
        "\n",
        "Como una forma de practicar y ver lo que sucede en el dataset de entrenamiento. Visualice cual sería el punto de falla para cada motor: \n"
      ]
    },
    {
      "cell_type": "code",
      "metadata": {
        "id": "j_q2UwnL1yHB",
        "colab_type": "code",
        "colab": {}
      },
      "source": [
        "#organizar los datos por id y por ciclos:\n",
        "train_df =train_df.sort_values(['id', 'cycle'])\n",
        "#train_df.head()\n",
        "ultimo_ciclo = train_df.groupby('id')['cycle'].max()\n",
        "ultimo_ciclo"
      ],
      "execution_count": 0,
      "outputs": []
    },
    {
      "cell_type": "markdown",
      "metadata": {
        "id": "e0fJ6SS-5eGU",
        "colab_type": "text"
      },
      "source": [
        "Como pudo notar existen 100 motores y por ejemplo el motor 1 fallará en el ciclo 192 y el motor 100 fallará en el ciclo 200.\n",
        "Para el dataset de prueba, el esquema es identico al dataset de entrenamiento, solo que en este caso el ultimo ciclo no representa el punto de falla para un motor en particular.\n",
        "\n",
        "El dataset ground truth tendrá entonces  el ciclo donde fallará cada motor del dataset de prueba.\n",
        "\n",
        "Como un ejercicio muestre que para el motor 2 el ultimo ciclo en el dataset de prueba es el 49 y el ciclo en que sera considerado como falla será en el 98:"
      ]
    },
    {
      "cell_type": "code",
      "metadata": {
        "id": "lN0qhHBW_i3d",
        "colab_type": "code",
        "colab": {}
      },
      "source": [
        "test_df = test_df.sort_values(['id' , 'cycle'])\n",
        "ultimo_ciclo_test = test_df.groupby('id')['cycle'].max()\n",
        "ultimo_ciclo_test.loc[2] , truth_df.loc[1]"
      ],
      "execution_count": 0,
      "outputs": []
    },
    {
      "cell_type": "markdown",
      "metadata": {
        "id": "-qMFC1U8fsjh",
        "colab_type": "text"
      },
      "source": [
        "Comencemos entonces generando etiquetas para los datos de entrenamiento. "
      ]
    },
    {
      "cell_type": "code",
      "metadata": {
        "id": "35x3ZtoJgmz0",
        "colab_type": "code",
        "colab": {
          "base_uri": "https://localhost:8080/",
          "height": 204
        },
        "outputId": "95a06b60-3e52-4090-b3b6-8c2c762c6c52"
      },
      "source": [
        "#Etiqueta: Generando una columana TVR (Tiempo de vida remanente)\n",
        "tvr = pd.DataFrame(train_df.groupby('id')['cycle'].max()).reset_index()\n",
        "tvr.columns = ['id', 'max']\n",
        "train_df = train_df.merge(tvr, on=['id'], how='left')\n",
        "train_df['TVR'] = train_df['max'] - train_df['cycle']\n",
        "train_df.drop('max', axis=1, inplace=True)\n",
        "train_df.head()"
      ],
      "execution_count": 116,
      "outputs": [
        {
          "output_type": "execute_result",
          "data": {
            "text/html": [
              "<div>\n",
              "<style scoped>\n",
              "    .dataframe tbody tr th:only-of-type {\n",
              "        vertical-align: middle;\n",
              "    }\n",
              "\n",
              "    .dataframe tbody tr th {\n",
              "        vertical-align: top;\n",
              "    }\n",
              "\n",
              "    .dataframe thead th {\n",
              "        text-align: right;\n",
              "    }\n",
              "</style>\n",
              "<table border=\"1\" class=\"dataframe\">\n",
              "  <thead>\n",
              "    <tr style=\"text-align: right;\">\n",
              "      <th></th>\n",
              "      <th>id</th>\n",
              "      <th>cycle</th>\n",
              "      <th>setting1</th>\n",
              "      <th>setting2</th>\n",
              "      <th>setting3</th>\n",
              "      <th>s1</th>\n",
              "      <th>s2</th>\n",
              "      <th>s3</th>\n",
              "      <th>s4</th>\n",
              "      <th>s5</th>\n",
              "      <th>s6</th>\n",
              "      <th>s7</th>\n",
              "      <th>s8</th>\n",
              "      <th>s9</th>\n",
              "      <th>s10</th>\n",
              "      <th>s11</th>\n",
              "      <th>s12</th>\n",
              "      <th>s13</th>\n",
              "      <th>s14</th>\n",
              "      <th>s15</th>\n",
              "      <th>s16</th>\n",
              "      <th>s17</th>\n",
              "      <th>s18</th>\n",
              "      <th>s19</th>\n",
              "      <th>s20</th>\n",
              "      <th>s21</th>\n",
              "      <th>TVR</th>\n",
              "    </tr>\n",
              "  </thead>\n",
              "  <tbody>\n",
              "    <tr>\n",
              "      <th>0</th>\n",
              "      <td>1</td>\n",
              "      <td>1</td>\n",
              "      <td>-0.0007</td>\n",
              "      <td>-0.0004</td>\n",
              "      <td>100.0</td>\n",
              "      <td>518.67</td>\n",
              "      <td>641.82</td>\n",
              "      <td>1589.70</td>\n",
              "      <td>1400.60</td>\n",
              "      <td>14.62</td>\n",
              "      <td>21.61</td>\n",
              "      <td>554.36</td>\n",
              "      <td>2388.06</td>\n",
              "      <td>9046.19</td>\n",
              "      <td>1.3</td>\n",
              "      <td>47.47</td>\n",
              "      <td>521.66</td>\n",
              "      <td>2388.02</td>\n",
              "      <td>8138.62</td>\n",
              "      <td>8.4195</td>\n",
              "      <td>0.03</td>\n",
              "      <td>392</td>\n",
              "      <td>2388</td>\n",
              "      <td>100.0</td>\n",
              "      <td>39.06</td>\n",
              "      <td>23.4190</td>\n",
              "      <td>191</td>\n",
              "    </tr>\n",
              "    <tr>\n",
              "      <th>1</th>\n",
              "      <td>1</td>\n",
              "      <td>2</td>\n",
              "      <td>0.0019</td>\n",
              "      <td>-0.0003</td>\n",
              "      <td>100.0</td>\n",
              "      <td>518.67</td>\n",
              "      <td>642.15</td>\n",
              "      <td>1591.82</td>\n",
              "      <td>1403.14</td>\n",
              "      <td>14.62</td>\n",
              "      <td>21.61</td>\n",
              "      <td>553.75</td>\n",
              "      <td>2388.04</td>\n",
              "      <td>9044.07</td>\n",
              "      <td>1.3</td>\n",
              "      <td>47.49</td>\n",
              "      <td>522.28</td>\n",
              "      <td>2388.07</td>\n",
              "      <td>8131.49</td>\n",
              "      <td>8.4318</td>\n",
              "      <td>0.03</td>\n",
              "      <td>392</td>\n",
              "      <td>2388</td>\n",
              "      <td>100.0</td>\n",
              "      <td>39.00</td>\n",
              "      <td>23.4236</td>\n",
              "      <td>190</td>\n",
              "    </tr>\n",
              "    <tr>\n",
              "      <th>2</th>\n",
              "      <td>1</td>\n",
              "      <td>3</td>\n",
              "      <td>-0.0043</td>\n",
              "      <td>0.0003</td>\n",
              "      <td>100.0</td>\n",
              "      <td>518.67</td>\n",
              "      <td>642.35</td>\n",
              "      <td>1587.99</td>\n",
              "      <td>1404.20</td>\n",
              "      <td>14.62</td>\n",
              "      <td>21.61</td>\n",
              "      <td>554.26</td>\n",
              "      <td>2388.08</td>\n",
              "      <td>9052.94</td>\n",
              "      <td>1.3</td>\n",
              "      <td>47.27</td>\n",
              "      <td>522.42</td>\n",
              "      <td>2388.03</td>\n",
              "      <td>8133.23</td>\n",
              "      <td>8.4178</td>\n",
              "      <td>0.03</td>\n",
              "      <td>390</td>\n",
              "      <td>2388</td>\n",
              "      <td>100.0</td>\n",
              "      <td>38.95</td>\n",
              "      <td>23.3442</td>\n",
              "      <td>189</td>\n",
              "    </tr>\n",
              "    <tr>\n",
              "      <th>3</th>\n",
              "      <td>1</td>\n",
              "      <td>4</td>\n",
              "      <td>0.0007</td>\n",
              "      <td>0.0000</td>\n",
              "      <td>100.0</td>\n",
              "      <td>518.67</td>\n",
              "      <td>642.35</td>\n",
              "      <td>1582.79</td>\n",
              "      <td>1401.87</td>\n",
              "      <td>14.62</td>\n",
              "      <td>21.61</td>\n",
              "      <td>554.45</td>\n",
              "      <td>2388.11</td>\n",
              "      <td>9049.48</td>\n",
              "      <td>1.3</td>\n",
              "      <td>47.13</td>\n",
              "      <td>522.86</td>\n",
              "      <td>2388.08</td>\n",
              "      <td>8133.83</td>\n",
              "      <td>8.3682</td>\n",
              "      <td>0.03</td>\n",
              "      <td>392</td>\n",
              "      <td>2388</td>\n",
              "      <td>100.0</td>\n",
              "      <td>38.88</td>\n",
              "      <td>23.3739</td>\n",
              "      <td>188</td>\n",
              "    </tr>\n",
              "    <tr>\n",
              "      <th>4</th>\n",
              "      <td>1</td>\n",
              "      <td>5</td>\n",
              "      <td>-0.0019</td>\n",
              "      <td>-0.0002</td>\n",
              "      <td>100.0</td>\n",
              "      <td>518.67</td>\n",
              "      <td>642.37</td>\n",
              "      <td>1582.85</td>\n",
              "      <td>1406.22</td>\n",
              "      <td>14.62</td>\n",
              "      <td>21.61</td>\n",
              "      <td>554.00</td>\n",
              "      <td>2388.06</td>\n",
              "      <td>9055.15</td>\n",
              "      <td>1.3</td>\n",
              "      <td>47.28</td>\n",
              "      <td>522.19</td>\n",
              "      <td>2388.04</td>\n",
              "      <td>8133.80</td>\n",
              "      <td>8.4294</td>\n",
              "      <td>0.03</td>\n",
              "      <td>393</td>\n",
              "      <td>2388</td>\n",
              "      <td>100.0</td>\n",
              "      <td>38.90</td>\n",
              "      <td>23.4044</td>\n",
              "      <td>187</td>\n",
              "    </tr>\n",
              "  </tbody>\n",
              "</table>\n",
              "</div>"
            ],
            "text/plain": [
              "   id  cycle  setting1  setting2  setting3  ...   s18    s19    s20      s21  TVR\n",
              "0   1      1   -0.0007   -0.0004     100.0  ...  2388  100.0  39.06  23.4190  191\n",
              "1   1      2    0.0019   -0.0003     100.0  ...  2388  100.0  39.00  23.4236  190\n",
              "2   1      3   -0.0043    0.0003     100.0  ...  2388  100.0  38.95  23.3442  189\n",
              "3   1      4    0.0007    0.0000     100.0  ...  2388  100.0  38.88  23.3739  188\n",
              "4   1      5   -0.0019   -0.0002     100.0  ...  2388  100.0  38.90  23.4044  187\n",
              "\n",
              "[5 rows x 27 columns]"
            ]
          },
          "metadata": {
            "tags": []
          },
          "execution_count": 116
        }
      ]
    },
    {
      "cell_type": "markdown",
      "metadata": {
        "id": "lbkgOuuuypW6",
        "colab_type": "text"
      },
      "source": [
        "Existen varias preguntas que se podrían intentar responder desde el punto de vista de mantenimiento predictivo. Dependiendo de la pregunta asi mismo sería el tipo de modelo de machine learning que deberiamos usar. Por ejemplo: podriamos usar un modelo de regresión si la pregunta fuese: ¿Cuantos ciclos de más tendrá un determinado motor antes de fallar?; podriamos usar un clasificador multi clase si la pregunta fuese: ¿Este motor fallara dentro del rango de ciclos [1, W0] o fallará dentro del rango de ciclos [wo+1, w1] o este no fallará dentro de w1 ciclos?\n",
        "Nosotros nos centraremos en un clasificador binario que nos de respuesta a la siguiente pregunta: ¿Este motor fallará dentro de los w1 ciclos?\n"
      ]
    }
  ]
}